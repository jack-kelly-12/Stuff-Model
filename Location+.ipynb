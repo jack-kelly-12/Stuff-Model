{
 "cells": [
  {
   "cell_type": "code",
   "execution_count": 1,
   "id": "92e53681",
   "metadata": {},
   "outputs": [],
   "source": [
    "import pandas as pd\n",
    "import numpy as np\n",
    "import pandas as pd\n",
    "import numpy as np\n",
    "from sklearn.model_selection import train_test_split, RandomizedSearchCV\n",
    "from sklearn.metrics import mean_absolute_error\n",
    "from sklearn.metrics import mean_squared_error\n",
    "from pybaseball import statcast, cache\n",
    "from catboost import CatBoostClassifier\n",
    "from xgboost import XGBClassifier\n",
    "import joblib\n",
    "import math\n",
    "from pybaseball import statcast\n",
    "import scipy.stats as stats\n",
    "from catboost import Pool\n",
    "import optuna\n",
    "from sklearn.metrics import log_loss\n",
    "from sklearn.metrics import accuracy_score, precision_score\n",
    "import sqlite3\n",
    "cache.enable()"
   ]
  },
  {
   "cell_type": "code",
   "execution_count": 2,
   "id": "1f103647",
   "metadata": {},
   "outputs": [],
   "source": [
    "with sqlite3.connect(\"../../Desktop/MLB Statcast.db\") as conn:\n",
    "    sc_23 = pd.read_sql_query(\"SELECT * FROM statcast_data_2023\", conn)\n",
    "    sc_22 = pd.read_sql_query(\"SELECT * FROM statcast_data_2022\", conn)\n",
    "    sc_21 = pd.read_sql_query(\"SELECT * FROM statcast_data_2021\", conn)\n",
    "    sc_20 = pd.read_sql_query(\"SELECT * FROM statcast_data_2020\", conn)\n",
    "conn.close()"
   ]
  },
  {
   "cell_type": "code",
   "execution_count": 3,
   "id": "bfa2c8b5",
   "metadata": {},
   "outputs": [],
   "source": [
    "total_sc = pd.concat([sc_23, sc_22, sc_21, sc_20])"
   ]
  },
  {
   "cell_type": "code",
   "execution_count": 4,
   "id": "81874f3d",
   "metadata": {},
   "outputs": [
    {
     "data": {
      "text/plain": [
       "['pitch_type',\n",
       " 'game_date',\n",
       " 'release_speed',\n",
       " 'release_pos_x',\n",
       " 'release_pos_z',\n",
       " 'player_name',\n",
       " 'batter',\n",
       " 'pitcher',\n",
       " 'events',\n",
       " 'description',\n",
       " 'spin_dir',\n",
       " 'spin_rate_deprecated',\n",
       " 'break_angle_deprecated',\n",
       " 'break_length_deprecated',\n",
       " 'zone',\n",
       " 'des',\n",
       " 'game_type',\n",
       " 'stand',\n",
       " 'p_throws',\n",
       " 'home_team',\n",
       " 'away_team',\n",
       " 'type',\n",
       " 'hit_location',\n",
       " 'bb_type',\n",
       " 'balls',\n",
       " 'strikes',\n",
       " 'game_year',\n",
       " 'pfx_x',\n",
       " 'pfx_z',\n",
       " 'plate_x',\n",
       " 'plate_z',\n",
       " 'on_3b',\n",
       " 'on_2b',\n",
       " 'on_1b',\n",
       " 'outs_when_up',\n",
       " 'inning',\n",
       " 'inning_topbot',\n",
       " 'hc_x',\n",
       " 'hc_y',\n",
       " 'tfs_deprecated',\n",
       " 'tfs_zulu_deprecated',\n",
       " 'fielder_2',\n",
       " 'umpire',\n",
       " 'sv_id',\n",
       " 'vx0',\n",
       " 'vy0',\n",
       " 'vz0',\n",
       " 'ax',\n",
       " 'ay',\n",
       " 'az',\n",
       " 'sz_top',\n",
       " 'sz_bot',\n",
       " 'hit_distance_sc',\n",
       " 'launch_speed',\n",
       " 'launch_angle',\n",
       " 'effective_speed',\n",
       " 'release_spin_rate',\n",
       " 'release_extension',\n",
       " 'game_pk',\n",
       " 'pitcher.1',\n",
       " 'fielder_2.1',\n",
       " 'fielder_3',\n",
       " 'fielder_4',\n",
       " 'fielder_5',\n",
       " 'fielder_6',\n",
       " 'fielder_7',\n",
       " 'fielder_8',\n",
       " 'fielder_9',\n",
       " 'release_pos_y',\n",
       " 'estimated_ba_using_speedangle',\n",
       " 'estimated_woba_using_speedangle',\n",
       " 'woba_value',\n",
       " 'woba_denom',\n",
       " 'babip_value',\n",
       " 'iso_value',\n",
       " 'launch_speed_angle',\n",
       " 'at_bat_number',\n",
       " 'pitch_number',\n",
       " 'pitch_name',\n",
       " 'home_score',\n",
       " 'away_score',\n",
       " 'bat_score',\n",
       " 'fld_score',\n",
       " 'post_away_score',\n",
       " 'post_home_score',\n",
       " 'post_bat_score',\n",
       " 'post_fld_score',\n",
       " 'if_fielding_alignment',\n",
       " 'of_fielding_alignment',\n",
       " 'spin_axis',\n",
       " 'delta_home_win_exp',\n",
       " 'delta_run_exp']"
      ]
     },
     "execution_count": 4,
     "metadata": {},
     "output_type": "execute_result"
    }
   ],
   "source": [
    "[c for c in total_sc.columns]"
   ]
  },
  {
   "cell_type": "code",
   "execution_count": 5,
   "id": "2f556523",
   "metadata": {},
   "outputs": [],
   "source": [
    "features = ['balls', 'strikes', 'plate_x', 'plate_z', 'stand']\n",
    "total_sc = total_sc[total_sc[features].notnull().all(axis=1)]"
   ]
  },
  {
   "cell_type": "code",
   "execution_count": 6,
   "id": "fb618b4e",
   "metadata": {},
   "outputs": [],
   "source": [
    "total_sc = total_sc[(total_sc['balls'] < 4) & (total_sc['strikes'] < 3)]"
   ]
  },
  {
   "cell_type": "code",
   "execution_count": 7,
   "id": "95cbfdeb",
   "metadata": {},
   "outputs": [],
   "source": [
    "total_sc = total_sc[~total_sc['pitch_name'].isin(['Pitch Out', 'Eephus', 'Knuckleball'])]"
   ]
  },
  {
   "cell_type": "code",
   "execution_count": 8,
   "id": "ce2b993c",
   "metadata": {},
   "outputs": [],
   "source": [
    "fastballs = ['4-Seam Fastball', 'Sinker']\n",
    "offspeed = ['Split-Finger', 'Changeup', 'Forkball']\n",
    "breaking = ['Curveball', 'Slider', 'Cutter', 'Knuckle Curve', 'Sweeper', 'Screwball', 'Slow Curve']"
   ]
  },
  {
   "cell_type": "code",
   "execution_count": 9,
   "id": "cc60a2b3",
   "metadata": {},
   "outputs": [],
   "source": [
    "total_sc['whiff'] = total_sc['description'].isin(['swinging_strike', 'swinging_strike_blocked'])\n",
    "total_sc['foul'] = total_sc['description'].isin(['foul', 'foul_tip'])\n",
    "total_sc['in_play'] = total_sc['description'].isin(['single', 'double', 'triple', 'home_run', 'field_out'])\n",
    "total_sc['swing'] = (total_sc['whiff'] | total_sc['foul'] | total_sc['in_play'])\n",
    "\n",
    "total_sc['take'] = (~total_sc['swing'] & (total_sc['description'].isin(['hit_by_pitch', 'ball', 'called_strike', 'blocked_ball'])))\n",
    "total_sc['hbp'] = total_sc['description'] == 'hit_by_pitch'\n",
    "total_sc['ball'] = total_sc['description'].isin(['blocked_ball', 'ball'])\n",
    "total_sc['strike'] = total_sc['description'] == 'called_strike'\n",
    "\n",
    "total_sc['single'] = total_sc['description'] == 'single'\n",
    "total_sc['double'] = total_sc['description'] == 'double'\n",
    "total_sc['triple'] = total_sc['description'] == 'triple'\n",
    "total_sc['home_run'] = total_sc['description'] == 'home_run'\n",
    "total_sc['field_out'] = total_sc['description'] == 'field_out'"
   ]
  },
  {
   "cell_type": "code",
   "execution_count": 10,
   "id": "5db329ad",
   "metadata": {},
   "outputs": [],
   "source": [
    "total_sc.loc[total_sc['swing'] & total_sc['foul'], 'type_swing'] = 'foul'\n",
    "total_sc.loc[total_sc['swing'] & total_sc['in_play'], 'type_swing'] = 'in_play'\n",
    "total_sc.loc[total_sc['swing'] & total_sc['whiff'], 'type_swing'] = 'whiff'\n",
    "\n",
    "total_sc.loc[total_sc['take'] & total_sc['hbp'], 'type_take'] = 'hbp'\n",
    "total_sc.loc[total_sc['take'] & total_sc['ball'], 'type_take'] = 'ball'\n",
    "total_sc.loc[total_sc['take'] & total_sc['strike'], 'type_take'] = 'strike'\n",
    "\n",
    "total_sc.loc[total_sc['in_play'] & total_sc['single'], 'type_in_play'] = 'single'\n",
    "total_sc.loc[total_sc['in_play'] & total_sc['double'], 'type_in_play'] = 'double'\n",
    "total_sc.loc[total_sc['in_play'] & total_sc['triple'], 'type_in_play'] = 'triple'\n",
    "total_sc.loc[total_sc['in_play'] & total_sc['home_run'], 'type_in_play'] = 'home_run'\n",
    "total_sc.loc[total_sc['in_play'] & total_sc['field_out'], 'type_in_play'] = 'field_out'"
   ]
  },
  {
   "cell_type": "code",
   "execution_count": 11,
   "id": "6571db43",
   "metadata": {},
   "outputs": [],
   "source": [
    "total_sc = total_sc.dropna(subset=['swing', 'take'])\n",
    "total_sc = total_sc[total_sc['swing'] != total_sc['take']]"
   ]
  },
  {
   "cell_type": "code",
   "execution_count": 12,
   "id": "36571c3b",
   "metadata": {},
   "outputs": [],
   "source": [
    "total_sc['stand'] = total_sc['stand'].replace({'R': 0, 'L': 1})"
   ]
  },
  {
   "cell_type": "code",
   "execution_count": 13,
   "id": "d8b75e47",
   "metadata": {
    "scrolled": true
   },
   "outputs": [
    {
     "name": "stdout",
     "output_type": "stream",
     "text": [
      "100%|███████████████████████████████████████████████| 10/10 [00:35<00:00,  3.54s/trial, best loss: -0.7290668170284748]\n",
      "Best parameters: {'max_depth': 14, 'gamma': 8.877814918428989, 'reg_alpha': 112, 'reg_lambda': 0.970276072168975, 'colsample_bytree': 0.9105671519348837, 'min_child_weight': 2, 'n_estimators': 98}\n"
     ]
    },
    {
     "data": {
      "text/html": [
       "<style>#sk-container-id-1 {color: black;background-color: white;}#sk-container-id-1 pre{padding: 0;}#sk-container-id-1 div.sk-toggleable {background-color: white;}#sk-container-id-1 label.sk-toggleable__label {cursor: pointer;display: block;width: 100%;margin-bottom: 0;padding: 0.3em;box-sizing: border-box;text-align: center;}#sk-container-id-1 label.sk-toggleable__label-arrow:before {content: \"▸\";float: left;margin-right: 0.25em;color: #696969;}#sk-container-id-1 label.sk-toggleable__label-arrow:hover:before {color: black;}#sk-container-id-1 div.sk-estimator:hover label.sk-toggleable__label-arrow:before {color: black;}#sk-container-id-1 div.sk-toggleable__content {max-height: 0;max-width: 0;overflow: hidden;text-align: left;background-color: #f0f8ff;}#sk-container-id-1 div.sk-toggleable__content pre {margin: 0.2em;color: black;border-radius: 0.25em;background-color: #f0f8ff;}#sk-container-id-1 input.sk-toggleable__control:checked~div.sk-toggleable__content {max-height: 200px;max-width: 100%;overflow: auto;}#sk-container-id-1 input.sk-toggleable__control:checked~label.sk-toggleable__label-arrow:before {content: \"▾\";}#sk-container-id-1 div.sk-estimator input.sk-toggleable__control:checked~label.sk-toggleable__label {background-color: #d4ebff;}#sk-container-id-1 div.sk-label input.sk-toggleable__control:checked~label.sk-toggleable__label {background-color: #d4ebff;}#sk-container-id-1 input.sk-hidden--visually {border: 0;clip: rect(1px 1px 1px 1px);clip: rect(1px, 1px, 1px, 1px);height: 1px;margin: -1px;overflow: hidden;padding: 0;position: absolute;width: 1px;}#sk-container-id-1 div.sk-estimator {font-family: monospace;background-color: #f0f8ff;border: 1px dotted black;border-radius: 0.25em;box-sizing: border-box;margin-bottom: 0.5em;}#sk-container-id-1 div.sk-estimator:hover {background-color: #d4ebff;}#sk-container-id-1 div.sk-parallel-item::after {content: \"\";width: 100%;border-bottom: 1px solid gray;flex-grow: 1;}#sk-container-id-1 div.sk-label:hover label.sk-toggleable__label {background-color: #d4ebff;}#sk-container-id-1 div.sk-serial::before {content: \"\";position: absolute;border-left: 1px solid gray;box-sizing: border-box;top: 0;bottom: 0;left: 50%;z-index: 0;}#sk-container-id-1 div.sk-serial {display: flex;flex-direction: column;align-items: center;background-color: white;padding-right: 0.2em;padding-left: 0.2em;position: relative;}#sk-container-id-1 div.sk-item {position: relative;z-index: 1;}#sk-container-id-1 div.sk-parallel {display: flex;align-items: stretch;justify-content: center;background-color: white;position: relative;}#sk-container-id-1 div.sk-item::before, #sk-container-id-1 div.sk-parallel-item::before {content: \"\";position: absolute;border-left: 1px solid gray;box-sizing: border-box;top: 0;bottom: 0;left: 50%;z-index: -1;}#sk-container-id-1 div.sk-parallel-item {display: flex;flex-direction: column;z-index: 1;position: relative;background-color: white;}#sk-container-id-1 div.sk-parallel-item:first-child::after {align-self: flex-end;width: 50%;}#sk-container-id-1 div.sk-parallel-item:last-child::after {align-self: flex-start;width: 50%;}#sk-container-id-1 div.sk-parallel-item:only-child::after {width: 0;}#sk-container-id-1 div.sk-dashed-wrapped {border: 1px dashed gray;margin: 0 0.4em 0.5em 0.4em;box-sizing: border-box;padding-bottom: 0.4em;background-color: white;}#sk-container-id-1 div.sk-label label {font-family: monospace;font-weight: bold;display: inline-block;line-height: 1.2em;}#sk-container-id-1 div.sk-label-container {text-align: center;}#sk-container-id-1 div.sk-container {/* jupyter's `normalize.less` sets `[hidden] { display: none; }` but bootstrap.min.css set `[hidden] { display: none !important; }` so we also need the `!important` here to be able to override the default hidden behavior on the sphinx rendered scikit-learn.org. See: https://github.com/scikit-learn/scikit-learn/issues/21755 */display: inline-block !important;position: relative;}#sk-container-id-1 div.sk-text-repr-fallback {display: none;}</style><div id=\"sk-container-id-1\" class=\"sk-top-container\"><div class=\"sk-text-repr-fallback\"><pre>XGBClassifier(base_score=0.5, booster=&#x27;gbtree&#x27;, callbacks=None,\n",
       "              colsample_bylevel=1, colsample_bynode=1,\n",
       "              colsample_bytree=0.9105671519348837, early_stopping_rounds=None,\n",
       "              enable_categorical=False, eval_metric=None, feature_types=None,\n",
       "              gamma=8.877814918428989, gpu_id=-1, grow_policy=&#x27;depthwise&#x27;,\n",
       "              importance_type=None, interaction_constraints=&#x27;&#x27;,\n",
       "              learning_rate=0.300000012, max_bin=256, max_cat_threshold=64,\n",
       "              max_cat_to_onehot=4, max_delta_step=0, max_depth=14, max_leaves=0,\n",
       "              min_child_weight=2, missing=nan, monotone_constraints=&#x27;()&#x27;,\n",
       "              n_estimators=98, n_jobs=0, num_parallel_tree=1, predictor=&#x27;auto&#x27;,\n",
       "              random_state=0, ...)</pre><b>In a Jupyter environment, please rerun this cell to show the HTML representation or trust the notebook. <br />On GitHub, the HTML representation is unable to render, please try loading this page with nbviewer.org.</b></div><div class=\"sk-container\" hidden><div class=\"sk-item\"><div class=\"sk-estimator sk-toggleable\"><input class=\"sk-toggleable__control sk-hidden--visually\" id=\"sk-estimator-id-1\" type=\"checkbox\" checked><label for=\"sk-estimator-id-1\" class=\"sk-toggleable__label sk-toggleable__label-arrow\">XGBClassifier</label><div class=\"sk-toggleable__content\"><pre>XGBClassifier(base_score=0.5, booster=&#x27;gbtree&#x27;, callbacks=None,\n",
       "              colsample_bylevel=1, colsample_bynode=1,\n",
       "              colsample_bytree=0.9105671519348837, early_stopping_rounds=None,\n",
       "              enable_categorical=False, eval_metric=None, feature_types=None,\n",
       "              gamma=8.877814918428989, gpu_id=-1, grow_policy=&#x27;depthwise&#x27;,\n",
       "              importance_type=None, interaction_constraints=&#x27;&#x27;,\n",
       "              learning_rate=0.300000012, max_bin=256, max_cat_threshold=64,\n",
       "              max_cat_to_onehot=4, max_delta_step=0, max_depth=14, max_leaves=0,\n",
       "              min_child_weight=2, missing=nan, monotone_constraints=&#x27;()&#x27;,\n",
       "              n_estimators=98, n_jobs=0, num_parallel_tree=1, predictor=&#x27;auto&#x27;,\n",
       "              random_state=0, ...)</pre></div></div></div></div></div>"
      ],
      "text/plain": [
       "XGBClassifier(base_score=0.5, booster='gbtree', callbacks=None,\n",
       "              colsample_bylevel=1, colsample_bynode=1,\n",
       "              colsample_bytree=0.9105671519348837, early_stopping_rounds=None,\n",
       "              enable_categorical=False, eval_metric=None, feature_types=None,\n",
       "              gamma=8.877814918428989, gpu_id=-1, grow_policy='depthwise',\n",
       "              importance_type=None, interaction_constraints='',\n",
       "              learning_rate=0.300000012, max_bin=256, max_cat_threshold=64,\n",
       "              max_cat_to_onehot=4, max_delta_step=0, max_depth=14, max_leaves=0,\n",
       "              min_child_weight=2, missing=nan, monotone_constraints='()',\n",
       "              n_estimators=98, n_jobs=0, num_parallel_tree=1, predictor='auto',\n",
       "              random_state=0, ...)"
      ]
     },
     "execution_count": 13,
     "metadata": {},
     "output_type": "execute_result"
    }
   ],
   "source": [
    "from sklearn.preprocessing import LabelEncoder\n",
    "from hyperopt import hp, fmin, tpe\n",
    "\n",
    "def objective(space, X_train, X_test, y_train, y_test):\n",
    "    model = XGBClassifier(\n",
    "        max_depth=int(space['max_depth']),\n",
    "        gamma=space['gamma'],\n",
    "        reg_alpha=int(space['reg_alpha']),\n",
    "        reg_lambda=space['reg_lambda'],\n",
    "        colsample_bytree=space['colsample_bytree'],\n",
    "        min_child_weight=int(space['min_child_weight']),\n",
    "        n_estimators=int(space['n_estimators']))\n",
    "    model.fit(X_train, y_train)\n",
    "    y_pred = model.predict(X_test)\n",
    "    accuracy = accuracy_score(y_test, y_pred)\n",
    "    return -accuracy\n",
    "\n",
    "le_swing = LabelEncoder()\n",
    "\n",
    "swing_df = total_sc[(total_sc['swing']) & total_sc['pitch_name'].isin(fastballs)]\n",
    "swing_X = swing_df[features]\n",
    "swing_y = le_swing.fit_transform(swing_df['type_swing'])\n",
    "\n",
    "X_train, X_test, y_train, y_test = train_test_split(swing_X, swing_y, test_size=0.2, random_state=np.random.seed())\n",
    "\n",
    "space = {\n",
    "    'max_depth': hp.quniform(\"max_depth\", 3, 18, 1),\n",
    "    'gamma': hp.uniform('gamma', 1, 9),\n",
    "    'reg_alpha': hp.quniform('reg_alpha', 40, 180, 1),\n",
    "    'reg_lambda': hp.uniform('reg_lambda', 0, 1),\n",
    "    'colsample_bytree': hp.uniform('colsample_bytree', 0.5, 1),\n",
    "    'min_child_weight': hp.quniform('min_child_weight', 0, 10, 1),\n",
    "    'n_estimators': hp.quniform('n_estimators', 50, 200, 1),\n",
    "    'seed': 12\n",
    "}\n",
    "\n",
    "best_params = fmin(fn=lambda params: objective(params, X_train, X_test, y_train, y_test),\n",
    "                   space=space,\n",
    "                   algo=tpe.suggest,\n",
    "                   max_evals=10)\n",
    "best_params = {\n",
    "    'max_depth': int(best_params['max_depth']),\n",
    "    'gamma': float(best_params['gamma']),\n",
    "    'reg_alpha': int(best_params['reg_alpha']),\n",
    "    'reg_lambda': float(best_params['reg_lambda']),\n",
    "    'colsample_bytree': float(best_params['colsample_bytree']),\n",
    "    'min_child_weight': int(best_params['min_child_weight']),\n",
    "    'n_estimators': int(best_params['n_estimators'])\n",
    "}\n",
    "print(\"Best parameters:\", best_params)\n",
    "\n",
    "swing_model = XGBClassifier(**best_params)\n",
    "swing_model.fit(X_train, y_train)"
   ]
  },
  {
   "cell_type": "code",
   "execution_count": 14,
   "id": "2d92ea38",
   "metadata": {},
   "outputs": [
    {
     "name": "stdout",
     "output_type": "stream",
     "text": [
      "100%|███████████████████████████████████████████████| 10/10 [00:35<00:00,  3.50s/trial, best loss: -0.7179917677642981]\n",
      "{'max_depth': 14, 'gamma': 3.4399304521552727, 'reg_alpha': 58, 'reg_lambda': 0.31461794298622137, 'colsample_bytree': 0.6932087107690439, 'min_child_weight': 8, 'n_estimators': 63}\n"
     ]
    },
    {
     "data": {
      "text/html": [
       "<style>#sk-container-id-2 {color: black;background-color: white;}#sk-container-id-2 pre{padding: 0;}#sk-container-id-2 div.sk-toggleable {background-color: white;}#sk-container-id-2 label.sk-toggleable__label {cursor: pointer;display: block;width: 100%;margin-bottom: 0;padding: 0.3em;box-sizing: border-box;text-align: center;}#sk-container-id-2 label.sk-toggleable__label-arrow:before {content: \"▸\";float: left;margin-right: 0.25em;color: #696969;}#sk-container-id-2 label.sk-toggleable__label-arrow:hover:before {color: black;}#sk-container-id-2 div.sk-estimator:hover label.sk-toggleable__label-arrow:before {color: black;}#sk-container-id-2 div.sk-toggleable__content {max-height: 0;max-width: 0;overflow: hidden;text-align: left;background-color: #f0f8ff;}#sk-container-id-2 div.sk-toggleable__content pre {margin: 0.2em;color: black;border-radius: 0.25em;background-color: #f0f8ff;}#sk-container-id-2 input.sk-toggleable__control:checked~div.sk-toggleable__content {max-height: 200px;max-width: 100%;overflow: auto;}#sk-container-id-2 input.sk-toggleable__control:checked~label.sk-toggleable__label-arrow:before {content: \"▾\";}#sk-container-id-2 div.sk-estimator input.sk-toggleable__control:checked~label.sk-toggleable__label {background-color: #d4ebff;}#sk-container-id-2 div.sk-label input.sk-toggleable__control:checked~label.sk-toggleable__label {background-color: #d4ebff;}#sk-container-id-2 input.sk-hidden--visually {border: 0;clip: rect(1px 1px 1px 1px);clip: rect(1px, 1px, 1px, 1px);height: 1px;margin: -1px;overflow: hidden;padding: 0;position: absolute;width: 1px;}#sk-container-id-2 div.sk-estimator {font-family: monospace;background-color: #f0f8ff;border: 1px dotted black;border-radius: 0.25em;box-sizing: border-box;margin-bottom: 0.5em;}#sk-container-id-2 div.sk-estimator:hover {background-color: #d4ebff;}#sk-container-id-2 div.sk-parallel-item::after {content: \"\";width: 100%;border-bottom: 1px solid gray;flex-grow: 1;}#sk-container-id-2 div.sk-label:hover label.sk-toggleable__label {background-color: #d4ebff;}#sk-container-id-2 div.sk-serial::before {content: \"\";position: absolute;border-left: 1px solid gray;box-sizing: border-box;top: 0;bottom: 0;left: 50%;z-index: 0;}#sk-container-id-2 div.sk-serial {display: flex;flex-direction: column;align-items: center;background-color: white;padding-right: 0.2em;padding-left: 0.2em;position: relative;}#sk-container-id-2 div.sk-item {position: relative;z-index: 1;}#sk-container-id-2 div.sk-parallel {display: flex;align-items: stretch;justify-content: center;background-color: white;position: relative;}#sk-container-id-2 div.sk-item::before, #sk-container-id-2 div.sk-parallel-item::before {content: \"\";position: absolute;border-left: 1px solid gray;box-sizing: border-box;top: 0;bottom: 0;left: 50%;z-index: -1;}#sk-container-id-2 div.sk-parallel-item {display: flex;flex-direction: column;z-index: 1;position: relative;background-color: white;}#sk-container-id-2 div.sk-parallel-item:first-child::after {align-self: flex-end;width: 50%;}#sk-container-id-2 div.sk-parallel-item:last-child::after {align-self: flex-start;width: 50%;}#sk-container-id-2 div.sk-parallel-item:only-child::after {width: 0;}#sk-container-id-2 div.sk-dashed-wrapped {border: 1px dashed gray;margin: 0 0.4em 0.5em 0.4em;box-sizing: border-box;padding-bottom: 0.4em;background-color: white;}#sk-container-id-2 div.sk-label label {font-family: monospace;font-weight: bold;display: inline-block;line-height: 1.2em;}#sk-container-id-2 div.sk-label-container {text-align: center;}#sk-container-id-2 div.sk-container {/* jupyter's `normalize.less` sets `[hidden] { display: none; }` but bootstrap.min.css set `[hidden] { display: none !important; }` so we also need the `!important` here to be able to override the default hidden behavior on the sphinx rendered scikit-learn.org. See: https://github.com/scikit-learn/scikit-learn/issues/21755 */display: inline-block !important;position: relative;}#sk-container-id-2 div.sk-text-repr-fallback {display: none;}</style><div id=\"sk-container-id-2\" class=\"sk-top-container\"><div class=\"sk-text-repr-fallback\"><pre>XGBClassifier(base_score=0.5, booster=&#x27;gbtree&#x27;, callbacks=None,\n",
       "              colsample_bylevel=1, colsample_bynode=1,\n",
       "              colsample_bytree=0.6932087107690439, early_stopping_rounds=None,\n",
       "              enable_categorical=False, eval_metric=None, feature_types=None,\n",
       "              gamma=3.4399304521552727, gpu_id=-1, grow_policy=&#x27;depthwise&#x27;,\n",
       "              importance_type=None, interaction_constraints=&#x27;&#x27;,\n",
       "              learning_rate=0.300000012, max_bin=256, max_cat_threshold=64,\n",
       "              max_cat_to_onehot=4, max_delta_step=0, max_depth=14, max_leaves=0,\n",
       "              min_child_weight=8, missing=nan, monotone_constraints=&#x27;()&#x27;,\n",
       "              n_estimators=63, n_jobs=0, num_parallel_tree=1, predictor=&#x27;auto&#x27;,\n",
       "              random_state=0, ...)</pre><b>In a Jupyter environment, please rerun this cell to show the HTML representation or trust the notebook. <br />On GitHub, the HTML representation is unable to render, please try loading this page with nbviewer.org.</b></div><div class=\"sk-container\" hidden><div class=\"sk-item\"><div class=\"sk-estimator sk-toggleable\"><input class=\"sk-toggleable__control sk-hidden--visually\" id=\"sk-estimator-id-2\" type=\"checkbox\" checked><label for=\"sk-estimator-id-2\" class=\"sk-toggleable__label sk-toggleable__label-arrow\">XGBClassifier</label><div class=\"sk-toggleable__content\"><pre>XGBClassifier(base_score=0.5, booster=&#x27;gbtree&#x27;, callbacks=None,\n",
       "              colsample_bylevel=1, colsample_bynode=1,\n",
       "              colsample_bytree=0.6932087107690439, early_stopping_rounds=None,\n",
       "              enable_categorical=False, eval_metric=None, feature_types=None,\n",
       "              gamma=3.4399304521552727, gpu_id=-1, grow_policy=&#x27;depthwise&#x27;,\n",
       "              importance_type=None, interaction_constraints=&#x27;&#x27;,\n",
       "              learning_rate=0.300000012, max_bin=256, max_cat_threshold=64,\n",
       "              max_cat_to_onehot=4, max_delta_step=0, max_depth=14, max_leaves=0,\n",
       "              min_child_weight=8, missing=nan, monotone_constraints=&#x27;()&#x27;,\n",
       "              n_estimators=63, n_jobs=0, num_parallel_tree=1, predictor=&#x27;auto&#x27;,\n",
       "              random_state=0, ...)</pre></div></div></div></div></div>"
      ],
      "text/plain": [
       "XGBClassifier(base_score=0.5, booster='gbtree', callbacks=None,\n",
       "              colsample_bylevel=1, colsample_bynode=1,\n",
       "              colsample_bytree=0.6932087107690439, early_stopping_rounds=None,\n",
       "              enable_categorical=False, eval_metric=None, feature_types=None,\n",
       "              gamma=3.4399304521552727, gpu_id=-1, grow_policy='depthwise',\n",
       "              importance_type=None, interaction_constraints='',\n",
       "              learning_rate=0.300000012, max_bin=256, max_cat_threshold=64,\n",
       "              max_cat_to_onehot=4, max_delta_step=0, max_depth=14, max_leaves=0,\n",
       "              min_child_weight=8, missing=nan, monotone_constraints='()',\n",
       "              n_estimators=63, n_jobs=0, num_parallel_tree=1, predictor='auto',\n",
       "              random_state=0, ...)"
      ]
     },
     "execution_count": 14,
     "metadata": {},
     "output_type": "execute_result"
    }
   ],
   "source": [
    "swing_df = total_sc[(total_sc['swing']) & total_sc['pitch_name'].isin(breaking)]\n",
    "swing_X = swing_df[features]\n",
    "swing_y = le_swing.fit_transform(swing_df['type_swing'])\n",
    "\n",
    "X_train, X_test, y_train, y_test = train_test_split(swing_X, swing_y, test_size=0.2, random_state=np.random.seed())\n",
    "\n",
    "best_params = fmin(fn=lambda params: objective(params, X_train, X_test, y_train, y_test),\n",
    "                   space=space,\n",
    "                   algo=tpe.suggest,\n",
    "                   max_evals=10)\n",
    "best_params = {\n",
    "    'max_depth': int(best_params['max_depth']),\n",
    "    'gamma': float(best_params['gamma']),\n",
    "    'reg_alpha': int(best_params['reg_alpha']),\n",
    "    'reg_lambda': float(best_params['reg_lambda']),\n",
    "    'colsample_bytree': float(best_params['colsample_bytree']),\n",
    "    'min_child_weight': int(best_params['min_child_weight']),\n",
    "    'n_estimators': int(best_params['n_estimators'])\n",
    "}\n",
    "print(best_params)\n",
    "\n",
    "swing_bb_model = XGBClassifier(**best_params)\n",
    "swing_bb_model.fit(X_train, y_train)"
   ]
  },
  {
   "cell_type": "code",
   "execution_count": 15,
   "id": "4ef3b745",
   "metadata": {},
   "outputs": [
    {
     "name": "stdout",
     "output_type": "stream",
     "text": [
      "100%|███████████████████████████████████████████████| 10/10 [00:10<00:00,  1.08s/trial, best loss: -0.6591564707052621]\n",
      "{'max_depth': 16, 'gamma': 7.0713210414923795, 'reg_alpha': 56, 'reg_lambda': 0.07576509316497115, 'colsample_bytree': 0.9781229879055829, 'min_child_weight': 10, 'n_estimators': 102}\n"
     ]
    },
    {
     "data": {
      "text/html": [
       "<style>#sk-container-id-3 {color: black;background-color: white;}#sk-container-id-3 pre{padding: 0;}#sk-container-id-3 div.sk-toggleable {background-color: white;}#sk-container-id-3 label.sk-toggleable__label {cursor: pointer;display: block;width: 100%;margin-bottom: 0;padding: 0.3em;box-sizing: border-box;text-align: center;}#sk-container-id-3 label.sk-toggleable__label-arrow:before {content: \"▸\";float: left;margin-right: 0.25em;color: #696969;}#sk-container-id-3 label.sk-toggleable__label-arrow:hover:before {color: black;}#sk-container-id-3 div.sk-estimator:hover label.sk-toggleable__label-arrow:before {color: black;}#sk-container-id-3 div.sk-toggleable__content {max-height: 0;max-width: 0;overflow: hidden;text-align: left;background-color: #f0f8ff;}#sk-container-id-3 div.sk-toggleable__content pre {margin: 0.2em;color: black;border-radius: 0.25em;background-color: #f0f8ff;}#sk-container-id-3 input.sk-toggleable__control:checked~div.sk-toggleable__content {max-height: 200px;max-width: 100%;overflow: auto;}#sk-container-id-3 input.sk-toggleable__control:checked~label.sk-toggleable__label-arrow:before {content: \"▾\";}#sk-container-id-3 div.sk-estimator input.sk-toggleable__control:checked~label.sk-toggleable__label {background-color: #d4ebff;}#sk-container-id-3 div.sk-label input.sk-toggleable__control:checked~label.sk-toggleable__label {background-color: #d4ebff;}#sk-container-id-3 input.sk-hidden--visually {border: 0;clip: rect(1px 1px 1px 1px);clip: rect(1px, 1px, 1px, 1px);height: 1px;margin: -1px;overflow: hidden;padding: 0;position: absolute;width: 1px;}#sk-container-id-3 div.sk-estimator {font-family: monospace;background-color: #f0f8ff;border: 1px dotted black;border-radius: 0.25em;box-sizing: border-box;margin-bottom: 0.5em;}#sk-container-id-3 div.sk-estimator:hover {background-color: #d4ebff;}#sk-container-id-3 div.sk-parallel-item::after {content: \"\";width: 100%;border-bottom: 1px solid gray;flex-grow: 1;}#sk-container-id-3 div.sk-label:hover label.sk-toggleable__label {background-color: #d4ebff;}#sk-container-id-3 div.sk-serial::before {content: \"\";position: absolute;border-left: 1px solid gray;box-sizing: border-box;top: 0;bottom: 0;left: 50%;z-index: 0;}#sk-container-id-3 div.sk-serial {display: flex;flex-direction: column;align-items: center;background-color: white;padding-right: 0.2em;padding-left: 0.2em;position: relative;}#sk-container-id-3 div.sk-item {position: relative;z-index: 1;}#sk-container-id-3 div.sk-parallel {display: flex;align-items: stretch;justify-content: center;background-color: white;position: relative;}#sk-container-id-3 div.sk-item::before, #sk-container-id-3 div.sk-parallel-item::before {content: \"\";position: absolute;border-left: 1px solid gray;box-sizing: border-box;top: 0;bottom: 0;left: 50%;z-index: -1;}#sk-container-id-3 div.sk-parallel-item {display: flex;flex-direction: column;z-index: 1;position: relative;background-color: white;}#sk-container-id-3 div.sk-parallel-item:first-child::after {align-self: flex-end;width: 50%;}#sk-container-id-3 div.sk-parallel-item:last-child::after {align-self: flex-start;width: 50%;}#sk-container-id-3 div.sk-parallel-item:only-child::after {width: 0;}#sk-container-id-3 div.sk-dashed-wrapped {border: 1px dashed gray;margin: 0 0.4em 0.5em 0.4em;box-sizing: border-box;padding-bottom: 0.4em;background-color: white;}#sk-container-id-3 div.sk-label label {font-family: monospace;font-weight: bold;display: inline-block;line-height: 1.2em;}#sk-container-id-3 div.sk-label-container {text-align: center;}#sk-container-id-3 div.sk-container {/* jupyter's `normalize.less` sets `[hidden] { display: none; }` but bootstrap.min.css set `[hidden] { display: none !important; }` so we also need the `!important` here to be able to override the default hidden behavior on the sphinx rendered scikit-learn.org. See: https://github.com/scikit-learn/scikit-learn/issues/21755 */display: inline-block !important;position: relative;}#sk-container-id-3 div.sk-text-repr-fallback {display: none;}</style><div id=\"sk-container-id-3\" class=\"sk-top-container\"><div class=\"sk-text-repr-fallback\"><pre>XGBClassifier(base_score=0.5, booster=&#x27;gbtree&#x27;, callbacks=None,\n",
       "              colsample_bylevel=1, colsample_bynode=1,\n",
       "              colsample_bytree=0.9781229879055829, early_stopping_rounds=None,\n",
       "              enable_categorical=False, eval_metric=None, feature_types=None,\n",
       "              gamma=7.0713210414923795, gpu_id=-1, grow_policy=&#x27;depthwise&#x27;,\n",
       "              importance_type=None, interaction_constraints=&#x27;&#x27;,\n",
       "              learning_rate=0.300000012, max_bin=256, max_cat_threshold=64,\n",
       "              max_cat_to_onehot=4, max_delta_step=0, max_depth=16, max_leaves=0,\n",
       "              min_child_weight=10, missing=nan, monotone_constraints=&#x27;()&#x27;,\n",
       "              n_estimators=102, n_jobs=0, num_parallel_tree=1, predictor=&#x27;auto&#x27;,\n",
       "              random_state=0, ...)</pre><b>In a Jupyter environment, please rerun this cell to show the HTML representation or trust the notebook. <br />On GitHub, the HTML representation is unable to render, please try loading this page with nbviewer.org.</b></div><div class=\"sk-container\" hidden><div class=\"sk-item\"><div class=\"sk-estimator sk-toggleable\"><input class=\"sk-toggleable__control sk-hidden--visually\" id=\"sk-estimator-id-3\" type=\"checkbox\" checked><label for=\"sk-estimator-id-3\" class=\"sk-toggleable__label sk-toggleable__label-arrow\">XGBClassifier</label><div class=\"sk-toggleable__content\"><pre>XGBClassifier(base_score=0.5, booster=&#x27;gbtree&#x27;, callbacks=None,\n",
       "              colsample_bylevel=1, colsample_bynode=1,\n",
       "              colsample_bytree=0.9781229879055829, early_stopping_rounds=None,\n",
       "              enable_categorical=False, eval_metric=None, feature_types=None,\n",
       "              gamma=7.0713210414923795, gpu_id=-1, grow_policy=&#x27;depthwise&#x27;,\n",
       "              importance_type=None, interaction_constraints=&#x27;&#x27;,\n",
       "              learning_rate=0.300000012, max_bin=256, max_cat_threshold=64,\n",
       "              max_cat_to_onehot=4, max_delta_step=0, max_depth=16, max_leaves=0,\n",
       "              min_child_weight=10, missing=nan, monotone_constraints=&#x27;()&#x27;,\n",
       "              n_estimators=102, n_jobs=0, num_parallel_tree=1, predictor=&#x27;auto&#x27;,\n",
       "              random_state=0, ...)</pre></div></div></div></div></div>"
      ],
      "text/plain": [
       "XGBClassifier(base_score=0.5, booster='gbtree', callbacks=None,\n",
       "              colsample_bylevel=1, colsample_bynode=1,\n",
       "              colsample_bytree=0.9781229879055829, early_stopping_rounds=None,\n",
       "              enable_categorical=False, eval_metric=None, feature_types=None,\n",
       "              gamma=7.0713210414923795, gpu_id=-1, grow_policy='depthwise',\n",
       "              importance_type=None, interaction_constraints='',\n",
       "              learning_rate=0.300000012, max_bin=256, max_cat_threshold=64,\n",
       "              max_cat_to_onehot=4, max_delta_step=0, max_depth=16, max_leaves=0,\n",
       "              min_child_weight=10, missing=nan, monotone_constraints='()',\n",
       "              n_estimators=102, n_jobs=0, num_parallel_tree=1, predictor='auto',\n",
       "              random_state=0, ...)"
      ]
     },
     "execution_count": 15,
     "metadata": {},
     "output_type": "execute_result"
    }
   ],
   "source": [
    "swing_df = total_sc[(total_sc['swing']) & total_sc['pitch_name'].isin(offspeed)]\n",
    "swing_X = swing_df[features]\n",
    "swing_y = le_swing.fit_transform(swing_df['type_swing'])\n",
    "\n",
    "X_train, X_test, y_train, y_test = train_test_split(swing_X, swing_y, test_size=0.2, random_state=np.random.seed())\n",
    "best_params = fmin(fn=lambda params: objective(params, X_train, X_test, y_train, y_test),\n",
    "                   space=space,\n",
    "                   algo=tpe.suggest,\n",
    "                   max_evals=10)\n",
    "best_params = {\n",
    "    'max_depth': int(best_params['max_depth']),\n",
    "    'gamma': float(best_params['gamma']),\n",
    "    'reg_alpha': int(best_params['reg_alpha']),\n",
    "    'reg_lambda': float(best_params['reg_lambda']),\n",
    "    'colsample_bytree': float(best_params['colsample_bytree']),\n",
    "    'min_child_weight': int(best_params['min_child_weight']),\n",
    "    'n_estimators': int(best_params['n_estimators'])\n",
    "}\n",
    "print(best_params)\n",
    "\n",
    "swing_offs_model = XGBClassifier(**best_params)\n",
    "swing_offs_model.fit(X_train, y_train)"
   ]
  },
  {
   "cell_type": "code",
   "execution_count": 16,
   "id": "191643b1",
   "metadata": {},
   "outputs": [
    {
     "name": "stdout",
     "output_type": "stream",
     "text": [
      "100%|███████████████████████████████████████████████| 10/10 [03:15<00:00, 19.52s/trial, best loss: -0.9194919255831523]\n",
      "{'max_depth': 10, 'gamma': 7.462883057544098, 'reg_alpha': 118, 'reg_lambda': 0.45598832185962246, 'colsample_bytree': 0.6403020925036327, 'min_child_weight': 3, 'n_estimators': 139}\n"
     ]
    },
    {
     "data": {
      "text/html": [
       "<style>#sk-container-id-4 {color: black;background-color: white;}#sk-container-id-4 pre{padding: 0;}#sk-container-id-4 div.sk-toggleable {background-color: white;}#sk-container-id-4 label.sk-toggleable__label {cursor: pointer;display: block;width: 100%;margin-bottom: 0;padding: 0.3em;box-sizing: border-box;text-align: center;}#sk-container-id-4 label.sk-toggleable__label-arrow:before {content: \"▸\";float: left;margin-right: 0.25em;color: #696969;}#sk-container-id-4 label.sk-toggleable__label-arrow:hover:before {color: black;}#sk-container-id-4 div.sk-estimator:hover label.sk-toggleable__label-arrow:before {color: black;}#sk-container-id-4 div.sk-toggleable__content {max-height: 0;max-width: 0;overflow: hidden;text-align: left;background-color: #f0f8ff;}#sk-container-id-4 div.sk-toggleable__content pre {margin: 0.2em;color: black;border-radius: 0.25em;background-color: #f0f8ff;}#sk-container-id-4 input.sk-toggleable__control:checked~div.sk-toggleable__content {max-height: 200px;max-width: 100%;overflow: auto;}#sk-container-id-4 input.sk-toggleable__control:checked~label.sk-toggleable__label-arrow:before {content: \"▾\";}#sk-container-id-4 div.sk-estimator input.sk-toggleable__control:checked~label.sk-toggleable__label {background-color: #d4ebff;}#sk-container-id-4 div.sk-label input.sk-toggleable__control:checked~label.sk-toggleable__label {background-color: #d4ebff;}#sk-container-id-4 input.sk-hidden--visually {border: 0;clip: rect(1px 1px 1px 1px);clip: rect(1px, 1px, 1px, 1px);height: 1px;margin: -1px;overflow: hidden;padding: 0;position: absolute;width: 1px;}#sk-container-id-4 div.sk-estimator {font-family: monospace;background-color: #f0f8ff;border: 1px dotted black;border-radius: 0.25em;box-sizing: border-box;margin-bottom: 0.5em;}#sk-container-id-4 div.sk-estimator:hover {background-color: #d4ebff;}#sk-container-id-4 div.sk-parallel-item::after {content: \"\";width: 100%;border-bottom: 1px solid gray;flex-grow: 1;}#sk-container-id-4 div.sk-label:hover label.sk-toggleable__label {background-color: #d4ebff;}#sk-container-id-4 div.sk-serial::before {content: \"\";position: absolute;border-left: 1px solid gray;box-sizing: border-box;top: 0;bottom: 0;left: 50%;z-index: 0;}#sk-container-id-4 div.sk-serial {display: flex;flex-direction: column;align-items: center;background-color: white;padding-right: 0.2em;padding-left: 0.2em;position: relative;}#sk-container-id-4 div.sk-item {position: relative;z-index: 1;}#sk-container-id-4 div.sk-parallel {display: flex;align-items: stretch;justify-content: center;background-color: white;position: relative;}#sk-container-id-4 div.sk-item::before, #sk-container-id-4 div.sk-parallel-item::before {content: \"\";position: absolute;border-left: 1px solid gray;box-sizing: border-box;top: 0;bottom: 0;left: 50%;z-index: -1;}#sk-container-id-4 div.sk-parallel-item {display: flex;flex-direction: column;z-index: 1;position: relative;background-color: white;}#sk-container-id-4 div.sk-parallel-item:first-child::after {align-self: flex-end;width: 50%;}#sk-container-id-4 div.sk-parallel-item:last-child::after {align-self: flex-start;width: 50%;}#sk-container-id-4 div.sk-parallel-item:only-child::after {width: 0;}#sk-container-id-4 div.sk-dashed-wrapped {border: 1px dashed gray;margin: 0 0.4em 0.5em 0.4em;box-sizing: border-box;padding-bottom: 0.4em;background-color: white;}#sk-container-id-4 div.sk-label label {font-family: monospace;font-weight: bold;display: inline-block;line-height: 1.2em;}#sk-container-id-4 div.sk-label-container {text-align: center;}#sk-container-id-4 div.sk-container {/* jupyter's `normalize.less` sets `[hidden] { display: none; }` but bootstrap.min.css set `[hidden] { display: none !important; }` so we also need the `!important` here to be able to override the default hidden behavior on the sphinx rendered scikit-learn.org. See: https://github.com/scikit-learn/scikit-learn/issues/21755 */display: inline-block !important;position: relative;}#sk-container-id-4 div.sk-text-repr-fallback {display: none;}</style><div id=\"sk-container-id-4\" class=\"sk-top-container\"><div class=\"sk-text-repr-fallback\"><pre>XGBClassifier(base_score=0.5, booster=&#x27;gbtree&#x27;, callbacks=None,\n",
       "              colsample_bylevel=1, colsample_bynode=1,\n",
       "              colsample_bytree=0.6403020925036327, early_stopping_rounds=None,\n",
       "              enable_categorical=False, eval_metric=None, feature_types=None,\n",
       "              gamma=7.462883057544098, gpu_id=-1, grow_policy=&#x27;depthwise&#x27;,\n",
       "              importance_type=None, interaction_constraints=&#x27;&#x27;,\n",
       "              learning_rate=0.300000012, max_bin=256, max_cat_threshold=64,\n",
       "              max_cat_to_onehot=4, max_delta_step=0, max_depth=10, max_leaves=0,\n",
       "              min_child_weight=3, missing=nan, monotone_constraints=&#x27;()&#x27;,\n",
       "              n_estimators=139, n_jobs=0, num_parallel_tree=1,\n",
       "              objective=&#x27;multi:softprob&#x27;, predictor=&#x27;auto&#x27;, ...)</pre><b>In a Jupyter environment, please rerun this cell to show the HTML representation or trust the notebook. <br />On GitHub, the HTML representation is unable to render, please try loading this page with nbviewer.org.</b></div><div class=\"sk-container\" hidden><div class=\"sk-item\"><div class=\"sk-estimator sk-toggleable\"><input class=\"sk-toggleable__control sk-hidden--visually\" id=\"sk-estimator-id-4\" type=\"checkbox\" checked><label for=\"sk-estimator-id-4\" class=\"sk-toggleable__label sk-toggleable__label-arrow\">XGBClassifier</label><div class=\"sk-toggleable__content\"><pre>XGBClassifier(base_score=0.5, booster=&#x27;gbtree&#x27;, callbacks=None,\n",
       "              colsample_bylevel=1, colsample_bynode=1,\n",
       "              colsample_bytree=0.6403020925036327, early_stopping_rounds=None,\n",
       "              enable_categorical=False, eval_metric=None, feature_types=None,\n",
       "              gamma=7.462883057544098, gpu_id=-1, grow_policy=&#x27;depthwise&#x27;,\n",
       "              importance_type=None, interaction_constraints=&#x27;&#x27;,\n",
       "              learning_rate=0.300000012, max_bin=256, max_cat_threshold=64,\n",
       "              max_cat_to_onehot=4, max_delta_step=0, max_depth=10, max_leaves=0,\n",
       "              min_child_weight=3, missing=nan, monotone_constraints=&#x27;()&#x27;,\n",
       "              n_estimators=139, n_jobs=0, num_parallel_tree=1,\n",
       "              objective=&#x27;multi:softprob&#x27;, predictor=&#x27;auto&#x27;, ...)</pre></div></div></div></div></div>"
      ],
      "text/plain": [
       "XGBClassifier(base_score=0.5, booster='gbtree', callbacks=None,\n",
       "              colsample_bylevel=1, colsample_bynode=1,\n",
       "              colsample_bytree=0.6403020925036327, early_stopping_rounds=None,\n",
       "              enable_categorical=False, eval_metric=None, feature_types=None,\n",
       "              gamma=7.462883057544098, gpu_id=-1, grow_policy='depthwise',\n",
       "              importance_type=None, interaction_constraints='',\n",
       "              learning_rate=0.300000012, max_bin=256, max_cat_threshold=64,\n",
       "              max_cat_to_onehot=4, max_delta_step=0, max_depth=10, max_leaves=0,\n",
       "              min_child_weight=3, missing=nan, monotone_constraints='()',\n",
       "              n_estimators=139, n_jobs=0, num_parallel_tree=1,\n",
       "              objective='multi:softprob', predictor='auto', ...)"
      ]
     },
     "execution_count": 16,
     "metadata": {},
     "output_type": "execute_result"
    }
   ],
   "source": [
    "le_take = LabelEncoder()\n",
    "\n",
    "take_total_sc = total_sc[(total_sc['take']) & total_sc['pitch_name'].isin(fastballs)]\n",
    "take_X = take_total_sc[features]\n",
    "take_y = le_take.fit_transform(take_total_sc['type_take'])\n",
    "\n",
    "X_train, X_test, y_train, y_test = train_test_split(take_X, take_y, test_size=0.2, random_state=np.random.seed())\n",
    "best_params = fmin(fn=lambda params: objective(params, X_train, X_test, y_train, y_test),\n",
    "                   space=space,\n",
    "                   algo=tpe.suggest,\n",
    "                   max_evals=10)\n",
    "best_params = {\n",
    "    'max_depth': int(best_params['max_depth']),\n",
    "    'gamma': float(best_params['gamma']),\n",
    "    'reg_alpha': int(best_params['reg_alpha']),\n",
    "    'reg_lambda': float(best_params['reg_lambda']),\n",
    "    'colsample_bytree': float(best_params['colsample_bytree']),\n",
    "    'min_child_weight': int(best_params['min_child_weight']),\n",
    "    'n_estimators': int(best_params['n_estimators'])\n",
    "}\n",
    "print(best_params)\n",
    "\n",
    "take_model = XGBClassifier(**best_params)\n",
    "take_model.fit(X_train, y_train)"
   ]
  },
  {
   "cell_type": "code",
   "execution_count": 17,
   "id": "22362fef",
   "metadata": {},
   "outputs": [
    {
     "name": "stdout",
     "output_type": "stream",
     "text": [
      "100%|███████████████████████████████████████████████| 10/10 [03:13<00:00, 19.37s/trial, best loss: -0.9359842624563273]\n",
      "{'max_depth': 17, 'gamma': 3.916816069154197, 'reg_alpha': 59, 'reg_lambda': 0.3857701679994242, 'colsample_bytree': 0.8835401067990046, 'min_child_weight': 0, 'n_estimators': 145}\n"
     ]
    },
    {
     "data": {
      "text/html": [
       "<style>#sk-container-id-5 {color: black;background-color: white;}#sk-container-id-5 pre{padding: 0;}#sk-container-id-5 div.sk-toggleable {background-color: white;}#sk-container-id-5 label.sk-toggleable__label {cursor: pointer;display: block;width: 100%;margin-bottom: 0;padding: 0.3em;box-sizing: border-box;text-align: center;}#sk-container-id-5 label.sk-toggleable__label-arrow:before {content: \"▸\";float: left;margin-right: 0.25em;color: #696969;}#sk-container-id-5 label.sk-toggleable__label-arrow:hover:before {color: black;}#sk-container-id-5 div.sk-estimator:hover label.sk-toggleable__label-arrow:before {color: black;}#sk-container-id-5 div.sk-toggleable__content {max-height: 0;max-width: 0;overflow: hidden;text-align: left;background-color: #f0f8ff;}#sk-container-id-5 div.sk-toggleable__content pre {margin: 0.2em;color: black;border-radius: 0.25em;background-color: #f0f8ff;}#sk-container-id-5 input.sk-toggleable__control:checked~div.sk-toggleable__content {max-height: 200px;max-width: 100%;overflow: auto;}#sk-container-id-5 input.sk-toggleable__control:checked~label.sk-toggleable__label-arrow:before {content: \"▾\";}#sk-container-id-5 div.sk-estimator input.sk-toggleable__control:checked~label.sk-toggleable__label {background-color: #d4ebff;}#sk-container-id-5 div.sk-label input.sk-toggleable__control:checked~label.sk-toggleable__label {background-color: #d4ebff;}#sk-container-id-5 input.sk-hidden--visually {border: 0;clip: rect(1px 1px 1px 1px);clip: rect(1px, 1px, 1px, 1px);height: 1px;margin: -1px;overflow: hidden;padding: 0;position: absolute;width: 1px;}#sk-container-id-5 div.sk-estimator {font-family: monospace;background-color: #f0f8ff;border: 1px dotted black;border-radius: 0.25em;box-sizing: border-box;margin-bottom: 0.5em;}#sk-container-id-5 div.sk-estimator:hover {background-color: #d4ebff;}#sk-container-id-5 div.sk-parallel-item::after {content: \"\";width: 100%;border-bottom: 1px solid gray;flex-grow: 1;}#sk-container-id-5 div.sk-label:hover label.sk-toggleable__label {background-color: #d4ebff;}#sk-container-id-5 div.sk-serial::before {content: \"\";position: absolute;border-left: 1px solid gray;box-sizing: border-box;top: 0;bottom: 0;left: 50%;z-index: 0;}#sk-container-id-5 div.sk-serial {display: flex;flex-direction: column;align-items: center;background-color: white;padding-right: 0.2em;padding-left: 0.2em;position: relative;}#sk-container-id-5 div.sk-item {position: relative;z-index: 1;}#sk-container-id-5 div.sk-parallel {display: flex;align-items: stretch;justify-content: center;background-color: white;position: relative;}#sk-container-id-5 div.sk-item::before, #sk-container-id-5 div.sk-parallel-item::before {content: \"\";position: absolute;border-left: 1px solid gray;box-sizing: border-box;top: 0;bottom: 0;left: 50%;z-index: -1;}#sk-container-id-5 div.sk-parallel-item {display: flex;flex-direction: column;z-index: 1;position: relative;background-color: white;}#sk-container-id-5 div.sk-parallel-item:first-child::after {align-self: flex-end;width: 50%;}#sk-container-id-5 div.sk-parallel-item:last-child::after {align-self: flex-start;width: 50%;}#sk-container-id-5 div.sk-parallel-item:only-child::after {width: 0;}#sk-container-id-5 div.sk-dashed-wrapped {border: 1px dashed gray;margin: 0 0.4em 0.5em 0.4em;box-sizing: border-box;padding-bottom: 0.4em;background-color: white;}#sk-container-id-5 div.sk-label label {font-family: monospace;font-weight: bold;display: inline-block;line-height: 1.2em;}#sk-container-id-5 div.sk-label-container {text-align: center;}#sk-container-id-5 div.sk-container {/* jupyter's `normalize.less` sets `[hidden] { display: none; }` but bootstrap.min.css set `[hidden] { display: none !important; }` so we also need the `!important` here to be able to override the default hidden behavior on the sphinx rendered scikit-learn.org. See: https://github.com/scikit-learn/scikit-learn/issues/21755 */display: inline-block !important;position: relative;}#sk-container-id-5 div.sk-text-repr-fallback {display: none;}</style><div id=\"sk-container-id-5\" class=\"sk-top-container\"><div class=\"sk-text-repr-fallback\"><pre>XGBClassifier(base_score=0.5, booster=&#x27;gbtree&#x27;, callbacks=None,\n",
       "              colsample_bylevel=1, colsample_bynode=1,\n",
       "              colsample_bytree=0.8835401067990046, early_stopping_rounds=None,\n",
       "              enable_categorical=False, eval_metric=None, feature_types=None,\n",
       "              gamma=3.916816069154197, gpu_id=-1, grow_policy=&#x27;depthwise&#x27;,\n",
       "              importance_type=None, interaction_constraints=&#x27;&#x27;,\n",
       "              learning_rate=0.300000012, max_bin=256, max_cat_threshold=64,\n",
       "              max_cat_to_onehot=4, max_delta_step=0, max_depth=17, max_leaves=0,\n",
       "              min_child_weight=0, missing=nan, monotone_constraints=&#x27;()&#x27;,\n",
       "              n_estimators=145, n_jobs=0, num_parallel_tree=1,\n",
       "              objective=&#x27;multi:softprob&#x27;, predictor=&#x27;auto&#x27;, ...)</pre><b>In a Jupyter environment, please rerun this cell to show the HTML representation or trust the notebook. <br />On GitHub, the HTML representation is unable to render, please try loading this page with nbviewer.org.</b></div><div class=\"sk-container\" hidden><div class=\"sk-item\"><div class=\"sk-estimator sk-toggleable\"><input class=\"sk-toggleable__control sk-hidden--visually\" id=\"sk-estimator-id-5\" type=\"checkbox\" checked><label for=\"sk-estimator-id-5\" class=\"sk-toggleable__label sk-toggleable__label-arrow\">XGBClassifier</label><div class=\"sk-toggleable__content\"><pre>XGBClassifier(base_score=0.5, booster=&#x27;gbtree&#x27;, callbacks=None,\n",
       "              colsample_bylevel=1, colsample_bynode=1,\n",
       "              colsample_bytree=0.8835401067990046, early_stopping_rounds=None,\n",
       "              enable_categorical=False, eval_metric=None, feature_types=None,\n",
       "              gamma=3.916816069154197, gpu_id=-1, grow_policy=&#x27;depthwise&#x27;,\n",
       "              importance_type=None, interaction_constraints=&#x27;&#x27;,\n",
       "              learning_rate=0.300000012, max_bin=256, max_cat_threshold=64,\n",
       "              max_cat_to_onehot=4, max_delta_step=0, max_depth=17, max_leaves=0,\n",
       "              min_child_weight=0, missing=nan, monotone_constraints=&#x27;()&#x27;,\n",
       "              n_estimators=145, n_jobs=0, num_parallel_tree=1,\n",
       "              objective=&#x27;multi:softprob&#x27;, predictor=&#x27;auto&#x27;, ...)</pre></div></div></div></div></div>"
      ],
      "text/plain": [
       "XGBClassifier(base_score=0.5, booster='gbtree', callbacks=None,\n",
       "              colsample_bylevel=1, colsample_bynode=1,\n",
       "              colsample_bytree=0.8835401067990046, early_stopping_rounds=None,\n",
       "              enable_categorical=False, eval_metric=None, feature_types=None,\n",
       "              gamma=3.916816069154197, gpu_id=-1, grow_policy='depthwise',\n",
       "              importance_type=None, interaction_constraints='',\n",
       "              learning_rate=0.300000012, max_bin=256, max_cat_threshold=64,\n",
       "              max_cat_to_onehot=4, max_delta_step=0, max_depth=17, max_leaves=0,\n",
       "              min_child_weight=0, missing=nan, monotone_constraints='()',\n",
       "              n_estimators=145, n_jobs=0, num_parallel_tree=1,\n",
       "              objective='multi:softprob', predictor='auto', ...)"
      ]
     },
     "execution_count": 17,
     "metadata": {},
     "output_type": "execute_result"
    }
   ],
   "source": [
    "take_total_sc = total_sc[(total_sc['take']) & total_sc['pitch_name'].isin(breaking)]\n",
    "take_X = take_total_sc[features]\n",
    "take_y = le_take.fit_transform(take_total_sc['type_take'])\n",
    "\n",
    "X_train, X_test, y_train, y_test = train_test_split(take_X, take_y, test_size=0.2, random_state=np.random.seed())\n",
    "best_params = fmin(fn=lambda params: objective(params, X_train, X_test, y_train, y_test),\n",
    "                   space=space,\n",
    "                   algo=tpe.suggest,\n",
    "                   max_evals=10)\n",
    "best_params = {\n",
    "    'max_depth': int(best_params['max_depth']),\n",
    "    'gamma': float(best_params['gamma']),\n",
    "    'reg_alpha': int(best_params['reg_alpha']),\n",
    "    'reg_lambda': float(best_params['reg_lambda']),\n",
    "    'colsample_bytree': float(best_params['colsample_bytree']),\n",
    "    'min_child_weight': int(best_params['min_child_weight']),\n",
    "    'n_estimators': int(best_params['n_estimators'])\n",
    "}\n",
    "print(best_params)\n",
    "\n",
    "take_bb_model = XGBClassifier(**best_params)\n",
    "take_bb_model.fit(X_train, y_train)"
   ]
  },
  {
   "cell_type": "code",
   "execution_count": 18,
   "id": "9f1a6e4b",
   "metadata": {},
   "outputs": [
    {
     "name": "stdout",
     "output_type": "stream",
     "text": [
      "100%|███████████████████████████████████████████████| 10/10 [06:28<00:00, 38.87s/trial, best loss: -0.9350928781467402]\n",
      "{'max_depth': 15, 'gamma': 8.945185021335961, 'reg_alpha': 77, 'reg_lambda': 0.5588786770228193, 'colsample_bytree': 0.7570306966970064, 'min_child_weight': 6, 'n_estimators': 130}\n"
     ]
    },
    {
     "data": {
      "text/html": [
       "<style>#sk-container-id-6 {color: black;background-color: white;}#sk-container-id-6 pre{padding: 0;}#sk-container-id-6 div.sk-toggleable {background-color: white;}#sk-container-id-6 label.sk-toggleable__label {cursor: pointer;display: block;width: 100%;margin-bottom: 0;padding: 0.3em;box-sizing: border-box;text-align: center;}#sk-container-id-6 label.sk-toggleable__label-arrow:before {content: \"▸\";float: left;margin-right: 0.25em;color: #696969;}#sk-container-id-6 label.sk-toggleable__label-arrow:hover:before {color: black;}#sk-container-id-6 div.sk-estimator:hover label.sk-toggleable__label-arrow:before {color: black;}#sk-container-id-6 div.sk-toggleable__content {max-height: 0;max-width: 0;overflow: hidden;text-align: left;background-color: #f0f8ff;}#sk-container-id-6 div.sk-toggleable__content pre {margin: 0.2em;color: black;border-radius: 0.25em;background-color: #f0f8ff;}#sk-container-id-6 input.sk-toggleable__control:checked~div.sk-toggleable__content {max-height: 200px;max-width: 100%;overflow: auto;}#sk-container-id-6 input.sk-toggleable__control:checked~label.sk-toggleable__label-arrow:before {content: \"▾\";}#sk-container-id-6 div.sk-estimator input.sk-toggleable__control:checked~label.sk-toggleable__label {background-color: #d4ebff;}#sk-container-id-6 div.sk-label input.sk-toggleable__control:checked~label.sk-toggleable__label {background-color: #d4ebff;}#sk-container-id-6 input.sk-hidden--visually {border: 0;clip: rect(1px 1px 1px 1px);clip: rect(1px, 1px, 1px, 1px);height: 1px;margin: -1px;overflow: hidden;padding: 0;position: absolute;width: 1px;}#sk-container-id-6 div.sk-estimator {font-family: monospace;background-color: #f0f8ff;border: 1px dotted black;border-radius: 0.25em;box-sizing: border-box;margin-bottom: 0.5em;}#sk-container-id-6 div.sk-estimator:hover {background-color: #d4ebff;}#sk-container-id-6 div.sk-parallel-item::after {content: \"\";width: 100%;border-bottom: 1px solid gray;flex-grow: 1;}#sk-container-id-6 div.sk-label:hover label.sk-toggleable__label {background-color: #d4ebff;}#sk-container-id-6 div.sk-serial::before {content: \"\";position: absolute;border-left: 1px solid gray;box-sizing: border-box;top: 0;bottom: 0;left: 50%;z-index: 0;}#sk-container-id-6 div.sk-serial {display: flex;flex-direction: column;align-items: center;background-color: white;padding-right: 0.2em;padding-left: 0.2em;position: relative;}#sk-container-id-6 div.sk-item {position: relative;z-index: 1;}#sk-container-id-6 div.sk-parallel {display: flex;align-items: stretch;justify-content: center;background-color: white;position: relative;}#sk-container-id-6 div.sk-item::before, #sk-container-id-6 div.sk-parallel-item::before {content: \"\";position: absolute;border-left: 1px solid gray;box-sizing: border-box;top: 0;bottom: 0;left: 50%;z-index: -1;}#sk-container-id-6 div.sk-parallel-item {display: flex;flex-direction: column;z-index: 1;position: relative;background-color: white;}#sk-container-id-6 div.sk-parallel-item:first-child::after {align-self: flex-end;width: 50%;}#sk-container-id-6 div.sk-parallel-item:last-child::after {align-self: flex-start;width: 50%;}#sk-container-id-6 div.sk-parallel-item:only-child::after {width: 0;}#sk-container-id-6 div.sk-dashed-wrapped {border: 1px dashed gray;margin: 0 0.4em 0.5em 0.4em;box-sizing: border-box;padding-bottom: 0.4em;background-color: white;}#sk-container-id-6 div.sk-label label {font-family: monospace;font-weight: bold;display: inline-block;line-height: 1.2em;}#sk-container-id-6 div.sk-label-container {text-align: center;}#sk-container-id-6 div.sk-container {/* jupyter's `normalize.less` sets `[hidden] { display: none; }` but bootstrap.min.css set `[hidden] { display: none !important; }` so we also need the `!important` here to be able to override the default hidden behavior on the sphinx rendered scikit-learn.org. See: https://github.com/scikit-learn/scikit-learn/issues/21755 */display: inline-block !important;position: relative;}#sk-container-id-6 div.sk-text-repr-fallback {display: none;}</style><div id=\"sk-container-id-6\" class=\"sk-top-container\"><div class=\"sk-text-repr-fallback\"><pre>XGBClassifier(base_score=0.5, booster=&#x27;gbtree&#x27;, callbacks=None,\n",
       "              colsample_bylevel=1, colsample_bynode=1,\n",
       "              colsample_bytree=0.7570306966970064, early_stopping_rounds=None,\n",
       "              enable_categorical=False, eval_metric=None, feature_types=None,\n",
       "              gamma=8.945185021335961, gpu_id=-1, grow_policy=&#x27;depthwise&#x27;,\n",
       "              importance_type=None, interaction_constraints=&#x27;&#x27;,\n",
       "              learning_rate=0.300000012, max_bin=256, max_cat_threshold=64,\n",
       "              max_cat_to_onehot=4, max_delta_step=0, max_depth=15, max_leaves=0,\n",
       "              min_child_weight=6, missing=nan, monotone_constraints=&#x27;()&#x27;,\n",
       "              n_estimators=130, n_jobs=0, num_parallel_tree=1,\n",
       "              objective=&#x27;multi:softprob&#x27;, predictor=&#x27;auto&#x27;, ...)</pre><b>In a Jupyter environment, please rerun this cell to show the HTML representation or trust the notebook. <br />On GitHub, the HTML representation is unable to render, please try loading this page with nbviewer.org.</b></div><div class=\"sk-container\" hidden><div class=\"sk-item\"><div class=\"sk-estimator sk-toggleable\"><input class=\"sk-toggleable__control sk-hidden--visually\" id=\"sk-estimator-id-6\" type=\"checkbox\" checked><label for=\"sk-estimator-id-6\" class=\"sk-toggleable__label sk-toggleable__label-arrow\">XGBClassifier</label><div class=\"sk-toggleable__content\"><pre>XGBClassifier(base_score=0.5, booster=&#x27;gbtree&#x27;, callbacks=None,\n",
       "              colsample_bylevel=1, colsample_bynode=1,\n",
       "              colsample_bytree=0.7570306966970064, early_stopping_rounds=None,\n",
       "              enable_categorical=False, eval_metric=None, feature_types=None,\n",
       "              gamma=8.945185021335961, gpu_id=-1, grow_policy=&#x27;depthwise&#x27;,\n",
       "              importance_type=None, interaction_constraints=&#x27;&#x27;,\n",
       "              learning_rate=0.300000012, max_bin=256, max_cat_threshold=64,\n",
       "              max_cat_to_onehot=4, max_delta_step=0, max_depth=15, max_leaves=0,\n",
       "              min_child_weight=6, missing=nan, monotone_constraints=&#x27;()&#x27;,\n",
       "              n_estimators=130, n_jobs=0, num_parallel_tree=1,\n",
       "              objective=&#x27;multi:softprob&#x27;, predictor=&#x27;auto&#x27;, ...)</pre></div></div></div></div></div>"
      ],
      "text/plain": [
       "XGBClassifier(base_score=0.5, booster='gbtree', callbacks=None,\n",
       "              colsample_bylevel=1, colsample_bynode=1,\n",
       "              colsample_bytree=0.7570306966970064, early_stopping_rounds=None,\n",
       "              enable_categorical=False, eval_metric=None, feature_types=None,\n",
       "              gamma=8.945185021335961, gpu_id=-1, grow_policy='depthwise',\n",
       "              importance_type=None, interaction_constraints='',\n",
       "              learning_rate=0.300000012, max_bin=256, max_cat_threshold=64,\n",
       "              max_cat_to_onehot=4, max_delta_step=0, max_depth=15, max_leaves=0,\n",
       "              min_child_weight=6, missing=nan, monotone_constraints='()',\n",
       "              n_estimators=130, n_jobs=0, num_parallel_tree=1,\n",
       "              objective='multi:softprob', predictor='auto', ...)"
      ]
     },
     "execution_count": 18,
     "metadata": {},
     "output_type": "execute_result"
    }
   ],
   "source": [
    "take_total_sc = total_sc[(total_sc['take']) & total_sc['pitch_name'].isin(offspeed)]\n",
    "take_X = take_total_sc[features]\n",
    "take_y = le_take.fit_transform(take_total_sc['type_take'])\n",
    "\n",
    "X_train, X_test, y_train, y_test = train_test_split(take_X, take_y, test_size=0.2, random_state=np.random.seed())\n",
    "best_params = fmin(fn=lambda params: objective(params, X_train, X_test, y_train, y_test),\n",
    "                   space=space,\n",
    "                   algo=tpe.suggest,\n",
    "                   max_evals=10)\n",
    "best_params = {\n",
    "    'max_depth': int(best_params['max_depth']),\n",
    "    'gamma': float(best_params['gamma']),\n",
    "    'reg_alpha': int(best_params['reg_alpha']),\n",
    "    'reg_lambda': float(best_params['reg_lambda']),\n",
    "    'colsample_bytree': float(best_params['colsample_bytree']),\n",
    "    'min_child_weight': int(best_params['min_child_weight']),\n",
    "    'n_estimators': int(best_params['n_estimators'])\n",
    "}\n",
    "print(best_params)\n",
    "\n",
    "take_offs_model = XGBClassifier(**best_params)\n",
    "take_offs_model.fit(X_train, y_train)"
   ]
  },
  {
   "cell_type": "code",
   "execution_count": 19,
   "id": "a56af226",
   "metadata": {},
   "outputs": [
    {
     "ename": "ValueError",
     "evalue": "With n_samples=0, test_size=0.2 and train_size=None, the resulting train set will be empty. Adjust any of the aforementioned parameters.",
     "output_type": "error",
     "traceback": [
      "\u001b[1;31m---------------------------------------------------------------------------\u001b[0m",
      "\u001b[1;31mValueError\u001b[0m                                Traceback (most recent call last)",
      "Cell \u001b[1;32mIn[19], line 7\u001b[0m\n\u001b[0;32m      4\u001b[0m woba_X \u001b[38;5;241m=\u001b[39m woba_total_sc[features]\n\u001b[0;32m      5\u001b[0m woba_y \u001b[38;5;241m=\u001b[39m le_woba\u001b[38;5;241m.\u001b[39mfit_transform(woba_total_sc[\u001b[38;5;124m'\u001b[39m\u001b[38;5;124mtype_in_play\u001b[39m\u001b[38;5;124m'\u001b[39m])\n\u001b[1;32m----> 7\u001b[0m X_train, X_test, y_train, y_test \u001b[38;5;241m=\u001b[39m \u001b[43mtrain_test_split\u001b[49m\u001b[43m(\u001b[49m\u001b[43mwoba_X\u001b[49m\u001b[43m,\u001b[49m\u001b[43m \u001b[49m\u001b[43mwoba_y\u001b[49m\u001b[43m,\u001b[49m\u001b[43m \u001b[49m\u001b[43mtest_size\u001b[49m\u001b[38;5;241;43m=\u001b[39;49m\u001b[38;5;241;43m0.2\u001b[39;49m\u001b[43m,\u001b[49m\u001b[43m \u001b[49m\u001b[43mrandom_state\u001b[49m\u001b[38;5;241;43m=\u001b[39;49m\u001b[43mnp\u001b[49m\u001b[38;5;241;43m.\u001b[39;49m\u001b[43mrandom\u001b[49m\u001b[38;5;241;43m.\u001b[39;49m\u001b[43mseed\u001b[49m\u001b[43m(\u001b[49m\u001b[43m)\u001b[49m\u001b[43m)\u001b[49m\n\u001b[0;32m      8\u001b[0m best_params \u001b[38;5;241m=\u001b[39m fmin(fn\u001b[38;5;241m=\u001b[39m\u001b[38;5;28;01mlambda\u001b[39;00m params: objective(params, X_train, X_test, y_train, y_test),\n\u001b[0;32m      9\u001b[0m                    space\u001b[38;5;241m=\u001b[39mspace,\n\u001b[0;32m     10\u001b[0m                    algo\u001b[38;5;241m=\u001b[39mtpe\u001b[38;5;241m.\u001b[39msuggest,\n\u001b[0;32m     11\u001b[0m                    max_evals\u001b[38;5;241m=\u001b[39m\u001b[38;5;241m10\u001b[39m)\n\u001b[0;32m     12\u001b[0m best_params \u001b[38;5;241m=\u001b[39m {\n\u001b[0;32m     13\u001b[0m     \u001b[38;5;124m'\u001b[39m\u001b[38;5;124mmax_depth\u001b[39m\u001b[38;5;124m'\u001b[39m: \u001b[38;5;28mint\u001b[39m(best_params[\u001b[38;5;124m'\u001b[39m\u001b[38;5;124mmax_depth\u001b[39m\u001b[38;5;124m'\u001b[39m]),\n\u001b[0;32m     14\u001b[0m     \u001b[38;5;124m'\u001b[39m\u001b[38;5;124mgamma\u001b[39m\u001b[38;5;124m'\u001b[39m: \u001b[38;5;28mfloat\u001b[39m(best_params[\u001b[38;5;124m'\u001b[39m\u001b[38;5;124mgamma\u001b[39m\u001b[38;5;124m'\u001b[39m]),\n\u001b[1;32m   (...)\u001b[0m\n\u001b[0;32m     19\u001b[0m     \u001b[38;5;124m'\u001b[39m\u001b[38;5;124mn_estimators\u001b[39m\u001b[38;5;124m'\u001b[39m: \u001b[38;5;28mint\u001b[39m(best_params[\u001b[38;5;124m'\u001b[39m\u001b[38;5;124mn_estimators\u001b[39m\u001b[38;5;124m'\u001b[39m])\n\u001b[0;32m     20\u001b[0m }\n",
      "File \u001b[1;32m~\\AppData\\Roaming\\Python\\Python39\\site-packages\\sklearn\\model_selection\\_split.py:2562\u001b[0m, in \u001b[0;36mtrain_test_split\u001b[1;34m(test_size, train_size, random_state, shuffle, stratify, *arrays)\u001b[0m\n\u001b[0;32m   2559\u001b[0m arrays \u001b[38;5;241m=\u001b[39m indexable(\u001b[38;5;241m*\u001b[39marrays)\n\u001b[0;32m   2561\u001b[0m n_samples \u001b[38;5;241m=\u001b[39m _num_samples(arrays[\u001b[38;5;241m0\u001b[39m])\n\u001b[1;32m-> 2562\u001b[0m n_train, n_test \u001b[38;5;241m=\u001b[39m \u001b[43m_validate_shuffle_split\u001b[49m\u001b[43m(\u001b[49m\n\u001b[0;32m   2563\u001b[0m \u001b[43m    \u001b[49m\u001b[43mn_samples\u001b[49m\u001b[43m,\u001b[49m\u001b[43m \u001b[49m\u001b[43mtest_size\u001b[49m\u001b[43m,\u001b[49m\u001b[43m \u001b[49m\u001b[43mtrain_size\u001b[49m\u001b[43m,\u001b[49m\u001b[43m \u001b[49m\u001b[43mdefault_test_size\u001b[49m\u001b[38;5;241;43m=\u001b[39;49m\u001b[38;5;241;43m0.25\u001b[39;49m\n\u001b[0;32m   2564\u001b[0m \u001b[43m\u001b[49m\u001b[43m)\u001b[49m\n\u001b[0;32m   2566\u001b[0m \u001b[38;5;28;01mif\u001b[39;00m shuffle \u001b[38;5;129;01mis\u001b[39;00m \u001b[38;5;28;01mFalse\u001b[39;00m:\n\u001b[0;32m   2567\u001b[0m     \u001b[38;5;28;01mif\u001b[39;00m stratify \u001b[38;5;129;01mis\u001b[39;00m \u001b[38;5;129;01mnot\u001b[39;00m \u001b[38;5;28;01mNone\u001b[39;00m:\n",
      "File \u001b[1;32m~\\AppData\\Roaming\\Python\\Python39\\site-packages\\sklearn\\model_selection\\_split.py:2236\u001b[0m, in \u001b[0;36m_validate_shuffle_split\u001b[1;34m(n_samples, test_size, train_size, default_test_size)\u001b[0m\n\u001b[0;32m   2233\u001b[0m n_train, n_test \u001b[38;5;241m=\u001b[39m \u001b[38;5;28mint\u001b[39m(n_train), \u001b[38;5;28mint\u001b[39m(n_test)\n\u001b[0;32m   2235\u001b[0m \u001b[38;5;28;01mif\u001b[39;00m n_train \u001b[38;5;241m==\u001b[39m \u001b[38;5;241m0\u001b[39m:\n\u001b[1;32m-> 2236\u001b[0m     \u001b[38;5;28;01mraise\u001b[39;00m \u001b[38;5;167;01mValueError\u001b[39;00m(\n\u001b[0;32m   2237\u001b[0m         \u001b[38;5;124m\"\u001b[39m\u001b[38;5;124mWith n_samples=\u001b[39m\u001b[38;5;132;01m{}\u001b[39;00m\u001b[38;5;124m, test_size=\u001b[39m\u001b[38;5;132;01m{}\u001b[39;00m\u001b[38;5;124m and train_size=\u001b[39m\u001b[38;5;132;01m{}\u001b[39;00m\u001b[38;5;124m, the \u001b[39m\u001b[38;5;124m\"\u001b[39m\n\u001b[0;32m   2238\u001b[0m         \u001b[38;5;124m\"\u001b[39m\u001b[38;5;124mresulting train set will be empty. Adjust any of the \u001b[39m\u001b[38;5;124m\"\u001b[39m\n\u001b[0;32m   2239\u001b[0m         \u001b[38;5;124m\"\u001b[39m\u001b[38;5;124maforementioned parameters.\u001b[39m\u001b[38;5;124m\"\u001b[39m\u001b[38;5;241m.\u001b[39mformat(n_samples, test_size, train_size)\n\u001b[0;32m   2240\u001b[0m     )\n\u001b[0;32m   2242\u001b[0m \u001b[38;5;28;01mreturn\u001b[39;00m n_train, n_test\n",
      "\u001b[1;31mValueError\u001b[0m: With n_samples=0, test_size=0.2 and train_size=None, the resulting train set will be empty. Adjust any of the aforementioned parameters."
     ]
    }
   ],
   "source": [
    "le_woba = LabelEncoder()\n",
    "\n",
    "woba_total_sc = total_sc[(total_sc['in_play']) & total_sc['pitch_name'].isin(fastballs)]\n",
    "woba_X = woba_total_sc[features]\n",
    "woba_y = le_woba.fit_transform(woba_total_sc['type_in_play'])\n",
    "\n",
    "X_train, X_test, y_train, y_test = train_test_split(woba_X, woba_y, test_size=0.2, random_state=np.random.seed())\n",
    "best_params = fmin(fn=lambda params: objective(params, X_train, X_test, y_train, y_test),\n",
    "                   space=space,\n",
    "                   algo=tpe.suggest,\n",
    "                   max_evals=10)\n",
    "best_params = {\n",
    "    'max_depth': int(best_params['max_depth']),\n",
    "    'gamma': float(best_params['gamma']),\n",
    "    'reg_alpha': int(best_params['reg_alpha']),\n",
    "    'reg_lambda': float(best_params['reg_lambda']),\n",
    "    'colsample_bytree': float(best_params['colsample_bytree']),\n",
    "    'min_child_weight': int(best_params['min_child_weight']),\n",
    "    'n_estimators': int(best_params['n_estimators'])\n",
    "}\n",
    "print(best_params)\n",
    "\n",
    "woba_model = XGBClassifier(**best_params)\n",
    "woba_model.fit(X_train, y_train)"
   ]
  },
  {
   "cell_type": "code",
   "execution_count": null,
   "id": "35855dce",
   "metadata": {},
   "outputs": [],
   "source": [
    "woba_total_sc = total_sc[(total_sc['in_play']) & total_sc['pitch_name'].isin(breaking)]\n",
    "woba_X = woba_total_sc[features]\n",
    "woba_y = le_woba.fit_transform(woba_total_sc['type_in_play'])\n",
    "\n",
    "X_train, X_test, y_train, y_test = train_test_split(woba_X, woba_y, test_size=0.2, random_state=np.random.seed())\n",
    "best_params = fmin(fn=lambda params: objective(params, X_train, X_test, y_train, y_test),\n",
    "                   space=space,\n",
    "                   algo=tpe.suggest,\n",
    "                   max_evals=10)\n",
    "best_params = {\n",
    "    'max_depth': int(best_params['max_depth']),\n",
    "    'gamma': float(best_params['gamma']),\n",
    "    'reg_alpha': int(best_params['reg_alpha']),\n",
    "    'reg_lambda': float(best_params['reg_lambda']),\n",
    "    'colsample_bytree': float(best_params['colsample_bytree']),\n",
    "    'min_child_weight': int(best_params['min_child_weight']),\n",
    "    'n_estimators': int(best_params['n_estimators'])\n",
    "}\n",
    "print(best_params)\n",
    "\n",
    "woba_bb_model = XGBClassifier(**best_params)\n",
    "woba_bb_model.fit(X_train, y_train)"
   ]
  },
  {
   "cell_type": "code",
   "execution_count": null,
   "id": "286a6cc6",
   "metadata": {},
   "outputs": [],
   "source": [
    "woba_total_sc = total_sc[(total_sc['in_play']) & total_sc['pitch_name'].isin(offspeed)]\n",
    "woba_X = woba_total_sc[features]\n",
    "woba_y = le_woba.fit_transform(woba_total_sc['type_in_play'])\n",
    "\n",
    "X_train, X_test, y_train, y_test = train_test_split(woba_X, woba_y, test_size=0.2, random_state=np.random.seed())\n",
    "best_params = fmin(fn=lambda params: objective(params, X_train, X_test, y_train, y_test),\n",
    "                   space=space,\n",
    "                   algo=tpe.suggest,\n",
    "                   max_evals=10)\n",
    "best_params = {\n",
    "    'max_depth': int(best_params['max_depth']),\n",
    "    'gamma': float(best_params['gamma']),\n",
    "    'reg_alpha': int(best_params['reg_alpha']),\n",
    "    'reg_lambda': float(best_params['reg_lambda']),\n",
    "    'colsample_bytree': float(best_params['colsample_bytree']),\n",
    "    'min_child_weight': int(best_params['min_child_weight']),\n",
    "    'n_estimators': int(best_params['n_estimators'])\n",
    "}\n",
    "print(best_params)\n",
    "\n",
    "woba_offs_model = XGBClassifier(**best_params)\n",
    "woba_offs_model.fit(X_train, y_train)"
   ]
  },
  {
   "cell_type": "code",
   "execution_count": null,
   "id": "66de24af",
   "metadata": {
    "scrolled": true
   },
   "outputs": [],
   "source": [
    "def will_swing_objective(trial, will_swing_X, will_swing_y):\n",
    "    X_train, X_test, y_train, y_test = train_test_split(will_swing_X, will_swing_y, test_size=0.2, random_state=np.random.seed())\n",
    "    \n",
    "    params = {\n",
    "        \"iterations\": trial.suggest_int(\"iterations\", 1000, 2000),\n",
    "        \"learning_rate\": trial.suggest_float(\"learning_rate\", 0.001, 0.1, log=True),\n",
    "        \"depth\": trial.suggest_int(\"depth\", 1, 10),\n",
    "        \"colsample_bylevel\": trial.suggest_float(\"colsample_bylevel\", .05, 1.0),\n",
    "        \"min_data_in_leaf\": trial.suggest_int(\"min_data_in_leaf\", 1, 100)\n",
    "    }\n",
    "\n",
    "    model = CatBoostClassifier(**params, silent=True, thread_count=-1)\n",
    "    model.fit(X_train, y_train)\n",
    "    y_pred = model.predict_proba(X_test)[:, 1]  # Probability of class 1 (swing)\n",
    "    logloss = log_loss(y_test, y_pred)\n",
    "    return logloss\n",
    "\n",
    "will_swing_total_sc = total_sc[total_sc['pitch_name'].isin(fastballs)]\n",
    "will_swing_X = will_swing_total_sc[features]\n",
    "will_swing_y = will_swing_total_sc['swing']\n",
    "\n",
    "study = optuna.create_study(direction='maximize')\n",
    "study.optimize(lambda trial: will_swing_objective(trial, will_swing_X, will_swing_y), n_trials=5)\n",
    "best_params = study.best_params\n",
    "best_ll = study.best_value\n",
    "\n",
    "print('Best hyperparameters:', best_params)\n",
    "print('Best logloss:', best_ll)\n",
    "X_train, X_test, y_train, y_test = train_test_split(will_swing_X, will_swing_y, test_size=0.2, random_state=np.random.seed())\n",
    "\n",
    "will_swing_model = CatBoostClassifier(**best_params, silent=True)\n",
    "will_swing_model.fit(X_train, y_train)"
   ]
  },
  {
   "cell_type": "code",
   "execution_count": null,
   "id": "7491e4d9",
   "metadata": {},
   "outputs": [],
   "source": [
    "will_swing_total_sc = total_sc[total_sc['pitch_name'].isin(breaking)]\n",
    "will_swing_X = will_swing_total_sc[features]\n",
    "will_swing_y = will_swing_total_sc['swing']\n",
    "\n",
    "study = optuna.create_study(direction='maximize')\n",
    "study.optimize(lambda trial: will_swing_objective(trial, will_swing_X, will_swing_y), n_trials=5)\n",
    "best_params = study.best_params\n",
    "best_ll = study.best_value\n",
    "\n",
    "print('Best hyperparameters:', best_params)\n",
    "print('Best logloss:', best_ll)\n",
    "X_train, X_test, y_train, y_test = train_test_split(will_swing_X, will_swing_y, test_size=0.2, random_state=np.random.seed())\n",
    "\n",
    "will_swing_bb_model = CatBoostClassifier(**best_params, silent=True)\n",
    "will_swing_bb_model.fit(X_train, y_train)"
   ]
  },
  {
   "cell_type": "code",
   "execution_count": null,
   "id": "ec708f40",
   "metadata": {
    "scrolled": false
   },
   "outputs": [],
   "source": [
    "will_swing_total_sc = total_sc[total_sc['pitch_name'].isin(offspeed)]\n",
    "will_swing_X = will_swing_total_sc[features]\n",
    "will_swing_y = will_swing_total_sc['swing']\n",
    "\n",
    "study = optuna.create_study(direction='maximize')\n",
    "study.optimize(lambda trial: will_swing_objective(trial, will_swing_X, will_swing_y), n_trials=5)\n",
    "best_params = study.best_params\n",
    "best_ll = study.best_value\n",
    "\n",
    "print('Best hyperparameters:', best_params)\n",
    "print('Best logloss:', best_ll)\n",
    "X_train, X_test, y_train, y_test = train_test_split(will_swing_X, will_swing_y, test_size=0.2, random_state=np.random.seed())\n",
    "\n",
    "will_swing_offs_model = CatBoostClassifier(**best_params, silent=True)\n",
    "will_swing_offs_model.fit(X_train, y_train)"
   ]
  },
  {
   "cell_type": "code",
   "execution_count": null,
   "id": "2cbfd657",
   "metadata": {},
   "outputs": [],
   "source": [
    "with sqlite3.connect(\"../../Desktop/MLB Statcast.db\") as conn:\n",
    "    sc_22 = pd.read_sql_query(\"SELECT * FROM statcast_data_2022\", conn)\n",
    "conn.close()\n",
    "spin_22 = pd.read_csv('../../Documents/spin_dir_2022.csv').drop(columns=['release_speed'])\n",
    "sc_22 = pd.merge(sc_22, spin_22, left_on=['player_name', 'pitch_type'], right_on=['last_name, first_name', 'api_pitch_type'], how='left')"
   ]
  },
  {
   "cell_type": "code",
   "execution_count": null,
   "id": "fbd77790",
   "metadata": {},
   "outputs": [],
   "source": [
    "sc_22.loc[sc_22['p_throws'] == 'L', 'pfx_x'] *= -1\n",
    "sc_22.loc[sc_22['p_throws'] == 'L', 'release_pos_x'] *= -1\n",
    "sc_22.loc[sc_22['p_throws'] == 'L', 'spin_axis'] = 360 - sc_22.loc[sc_22['p_throws'] == 'L', 'spin_axis']"
   ]
  },
  {
   "cell_type": "code",
   "execution_count": null,
   "id": "8d96c3ed",
   "metadata": {},
   "outputs": [],
   "source": [
    "sc_22['axis_dif'] = sc_22['diff_clock_hh'] * 10 + sc_22['diff_clock_mm']"
   ]
  },
  {
   "cell_type": "code",
   "execution_count": null,
   "id": "f3763b22",
   "metadata": {},
   "outputs": [],
   "source": [
    "sc_22 = sc_22[sc_22[features].notnull().all(axis=1)]"
   ]
  },
  {
   "cell_type": "code",
   "execution_count": null,
   "id": "771e4032",
   "metadata": {},
   "outputs": [],
   "source": [
    "sc_22['stand'] = sc_22['stand'].replace({'R': 0, 'L': 1})"
   ]
  },
  {
   "cell_type": "code",
   "execution_count": null,
   "id": "2bbdd5c1",
   "metadata": {},
   "outputs": [],
   "source": [
    "all_players = sc_22['player_name'].unique()\n",
    "\n",
    "fastball_data = get_pitch_data(sc_22, '4-Seam Fastball', all_players)\n",
    "fastball_data = fastball_data.dropna(subset=['release_speed'])\n",
    "fastball_velo_map = dict(zip(fastball_data['player_name'], fastball_data['release_speed']))\n",
    "fastball_h_mov_map = dict(zip(fastball_data['player_name'], fastball_data['pfx_x']))\n",
    "fastball_v_mov_map = dict(zip(fastball_data['player_name'], fastball_data['pfx_z']))\n",
    "\n",
    "sinker_data = get_pitch_data(sc_22, 'Sinker', all_players)\n",
    "sinker_data = sinker_data.dropna(subset=['release_speed'])\n",
    "sinker_velo_map = dict(zip(sinker_data['player_name'], sinker_data['release_speed']))\n",
    "sinker_h_mov_map = dict(zip(sinker_data['player_name'], sinker_data['pfx_x']))\n",
    "sinker_v_mov_map = dict(zip(sinker_data['player_name'], sinker_data['pfx_z']))\n",
    "\n",
    "cutter_data = get_pitch_data(sc_22, 'Cutter', all_players)\n",
    "cutter_data = cutter_data.dropna(subset=['release_speed'])\n",
    "cutter_velo_map = dict(zip(cutter_data['player_name'], cutter_data['release_speed']))\n",
    "cutter_h_mov_map = dict(zip(cutter_data['player_name'], cutter_data['pfx_x']))\n",
    "cutter_v_mov_map = dict(zip(cutter_data['player_name'], cutter_data['pfx_z']))"
   ]
  },
  {
   "cell_type": "code",
   "execution_count": null,
   "id": "5dc5aa9b",
   "metadata": {},
   "outputs": [],
   "source": [
    "pitch_data = {\n",
    "    '4-Seam Fastball': {\n",
    "        'velo_map': fastball_velo_map,\n",
    "        'h_mov_map': fastball_h_mov_map,\n",
    "        'v_mov_map': fastball_v_mov_map\n",
    "    },\n",
    "    'Sinker': {\n",
    "        'velo_map': sinker_velo_map,\n",
    "        'h_mov_map': sinker_h_mov_map,\n",
    "        'v_mov_map': sinker_v_mov_map\n",
    "    },\n",
    "    'Cutter': {\n",
    "        'velo_map': cutter_velo_map,\n",
    "        'h_mov_map': cutter_h_mov_map,\n",
    "        'v_mov_map': cutter_v_mov_map\n",
    "    }\n",
    "}\n",
    "\n",
    "sc_22['velo_dif'], sc_22['h_mov_dif'], sc_22['v_mov_dif'] = zip(*sc_22.apply(calculate_differences, axis=1))"
   ]
  },
  {
   "cell_type": "code",
   "execution_count": null,
   "id": "c4aed768",
   "metadata": {},
   "outputs": [],
   "source": [
    "fastball_df = sc_22[sc_22['pitch_name'].isin(fastballs)]\n",
    "bb_df = sc_22[sc_22['pitch_name'].isin(breaking)]\n",
    "offs_df = sc_22[sc_22['pitch_name'].isin(offspeed)]"
   ]
  },
  {
   "cell_type": "code",
   "execution_count": null,
   "id": "126ca8e3",
   "metadata": {},
   "outputs": [],
   "source": [
    "values = {\n",
    "    'home_run': 1.374328827219,\n",
    "    'triple': 1.05755624961515,\n",
    "    'double': 0.766083122898271,\n",
    "    'single': 0.467292970729251,\n",
    "    'ball': 0.0636883289483747,\n",
    "    'hit_by_pitch': 0.0636883289483747,\n",
    "    'blocked_ball': 0.0636883289483747,\n",
    "    'foul': -0.0380502742575014,\n",
    "    'foul_tip': -0.0380502742575014,\n",
    "    'bunt_foul': -0.0380502742575014,\n",
    "    'bunt_foul_tip': -0.0380502742575014,\n",
    "    'called_strike': -0.065092516089806,\n",
    "    'swinging_strike': -0.118124935770601,\n",
    "    'swinging_strike_blocked': -0.118124935770601,\n",
    "    'force_out': -0.1955687665555,\n",
    "    'grounded_into_double_play': -0.1955687665555,\n",
    "    'fielders_choice_out': -0.1955687665555,\n",
    "    'fielders_choice': -0.1955687665555,\n",
    "    'field_out': -0.1955687665555,\n",
    "    'double_play': -0.1955687665555,\n",
    "    'sac_fly': -0.226889645519856,\n",
    "    'field_error': -0.226889645519856,\n",
    "    'catcher_interf': -0.789788814378052,\n",
    "    'sac_fly_double_play': -0.789788814378052,\n",
    "    'triple_play': -0.789788814378052\n",
    "}"
   ]
  },
  {
   "cell_type": "code",
   "execution_count": null,
   "id": "e33c8487",
   "metadata": {},
   "outputs": [],
   "source": [
    "swing_probs = swing_model.predict_proba(fastball_df[features])\n",
    "take_probs = take_model.predict_proba(fastball_df[features])\n",
    "ws_probs = will_swing_model.predict_proba(fastball_df[features])\n",
    "woba_probs = woba_model.predict_proba(fastball_df[features])\n",
    "\n",
    "fastball_df['whiff_prob'] = swing_probs[:, list(le_swing.inverse_transform(swing_model.classes_)).index('whiff')]\n",
    "fastball_df['in_play_prob'] = swing_probs[:, list(le_swing.inverse_transform(swing_model.classes_)).index('in_play')]\n",
    "fastball_df['foul_prob'] = swing_probs[:, list(le_swing.inverse_transform(swing_model.classes_)).index('foul')]\n",
    "\n",
    "fastball_df['strike_prob'] = take_probs[:, list(le_take.inverse_transform(take_model.classes_)).index('strike')]\n",
    "fastball_df['ball_prob'] = take_probs[:, list(le_take.inverse_transform(take_model.classes_)).index('ball')]\n",
    "fastball_df['hbp_prob'] = take_probs[:, list(le_take.inverse_transform(take_model.classes_)).index('hbp')]\n",
    "\n",
    "fastball_df['single_prob'] = woba_probs[:, list(le_woba.inverse_transform(woba_model.classes_)).index('single')]\n",
    "fastball_df['double_prob'] = woba_probs[:, list(le_woba.inverse_transform(woba_model.classes_)).index('double')]\n",
    "fastball_df['triple_prob'] = woba_probs[:, list(le_woba.inverse_transform(woba_model.classes_)).index('triple')]\n",
    "fastball_df['hr_prob'] = woba_probs[:, list(le_woba.inverse_transform(woba_model.classes_)).index('home_run')]\n",
    "fastball_df['fo_prob'] = woba_probs[:, list(le_woba.inverse_transform(woba_model.classes_)).index('field_out')]\n",
    "fastball_df['xwOBAcon'] = values['single'] * fastball_df['single_prob'] + values['double'] * fastball_df['double_prob'] + values['triple'] * fastball_df['triple_prob'] + values['home_run'] * fastball_df['hr_prob'] + values['field_out'] * fastball_df['fo_prob']\n",
    "\n",
    "fastball_df['swing_prob'] = ws_probs[:, list(will_swing_model.classes_).index('True')]\n",
    "fastball_df['take_prob'] = 1 - fastball_df['swing_prob'] \n",
    "\n",
    "fastball_df['val_swing'] = values['swinging_strike'] * fastball_df['whiff_prob'] + values['foul'] * fastball_df['foul_prob']\n",
    "+ fastball_df['xwOBAcon'] * fastball_df['in_play_prob']\n",
    "fastball_df['val_take'] = values['called_strike'] * fastball_df['strike_prob'] + values['ball'] * fastball_df['ball_prob'] + values['hit_by_pitch'] * fastball_df['hbp_prob']\n",
    "fastball_df['xRV'] = fastball_df['val_swing'] * fastball_df['swing_prob'] + fastball_df['val_take'] * fastball_df['take_prob']"
   ]
  },
  {
   "cell_type": "code",
   "execution_count": null,
   "id": "c56148d2",
   "metadata": {},
   "outputs": [],
   "source": [
    "swing_bb_probs = swing_bb_model.predict_proba(bb_df[features])\n",
    "take_bb_probs = take_bb_model.predict_proba(bb_df[features])\n",
    "ws_bb_probs = will_swing_bb_model.predict_proba(bb_df[features])\n",
    "woba_bb_probs = woba_bb_model.predict_proba(bb_df[features])\n",
    "\n",
    "bb_df['whiff_prob'] = swing_bb_probs[:, list(le_swing.inverse_transform(swing_bb_model.classes_)).index('whiff')]\n",
    "bb_df['in_play_prob'] = swing_bb_probs[:, list(le_swing.inverse_transform(swing_bb_model.classes_)).index('in_play')]\n",
    "bb_df['foul_prob'] = swing_bb_probs[:, list(le_swing.inverse_transform(swing_bb_model.classes_)).index('foul')]\n",
    "\n",
    "bb_df['strike_prob'] = take_bb_probs[:, list(le_take.inverse_transform(take_bb_model.classes_)).index('strike')]\n",
    "bb_df['ball_prob'] = take_bb_probs[:, list(le_take.inverse_transform(take_bb_model.classes_)).index('ball')]\n",
    "bb_df['hbp_prob'] = take_bb_probs[:, list(le_take.inverse_transform(take_bb_model.classes_)).index('hbp')]\n",
    "\n",
    "bb_df['single_prob'] = woba_bb_probs[:, list(le_woba.inverse_transform(woba_bb_model.classes_)).index('single')]\n",
    "bb_df['double_prob'] = woba_bb_probs[:, list(le_woba.inverse_transform(woba_bb_model.classes_)).index('double')]\n",
    "bb_df['triple_prob'] = woba_bb_probs[:, list(le_woba.inverse_transform(woba_bb_model.classes_)).index('triple')]\n",
    "bb_df['hr_prob'] = woba_bb_probs[:, list(le_woba.inverse_transform(woba_bb_model.classes_)).index('home_run')]\n",
    "bb_df['fo_prob'] = woba_bb_probs[:, list(le_woba.inverse_transform(woba_bb_model.classes_)).index('field_out')]\n",
    "bb_df['xwOBAcon'] = values['single'] * bb_df['single_prob'] + values['double'] * bb_df['double_prob'] + values['triple'] * bb_df['triple_prob'] + values['home_run'] * bb_df['hr_prob'] + values['field_out'] * bb_df['fo_prob']\n",
    "\n",
    "bb_df['swing_prob'] = ws_bb_probs[:, list(will_swing_bb_model.classes_).index('True')]\n",
    "bb_df['take_prob'] = 1 - bb_df['swing_prob'] \n",
    "\n",
    "bb_df['val_swing'] = values['swinging_strike'] * bb_df['whiff_prob'] + values['foul'] * bb_df['foul_prob']\n",
    "+ bb_df['xwOBAcon'] * bb_df['in_play_prob']\n",
    "bb_df['val_take'] = values['called_strike'] * bb_df['strike_prob'] + values['ball'] * bb_df['ball_prob'] + values['hit_by_pitch'] * bb_df['hbp_prob']\n",
    "bb_df['xRV'] = bb_df['val_swing'] * bb_df['swing_prob'] + bb_df['val_take'] * bb_df['take_prob']"
   ]
  },
  {
   "cell_type": "code",
   "execution_count": null,
   "id": "ceadeca7",
   "metadata": {},
   "outputs": [],
   "source": [
    "swing_offs_probs = swing_offs_model.predict_proba(offs_df[features])\n",
    "take_offs_probs = take_offs_model.predict_proba(offs_df[features])\n",
    "ws_offs_probs = will_swing_offs_model.predict_proba(offs_df[features])\n",
    "woba_offs_probs = woba_offs_model.predict_proba(offs_df[features])\n",
    "\n",
    "offs_df['whiff_prob'] = swing_offs_probs[:, list(le_swing.inverse_transform(swing_offs_model.classes_)).index('whiff')]\n",
    "offs_df['in_play_prob'] = swing_offs_probs[:, list(le_swing.inverse_transform(swing_offs_model.classes_)).index('in_play')]\n",
    "offs_df['foul_prob'] = swing_offs_probs[:, list(le_swing.inverse_transform(swing_offs_model.classes_)).index('foul')]\n",
    "\n",
    "offs_df['strike_prob'] = take_offs_probs[:, list(le_take.inverse_transform(take_offs_model.classes_)).index('strike')]\n",
    "offs_df['ball_prob'] = take_offs_probs[:, list(le_take.inverse_transform(take_offs_model.classes_)).index('ball')]\n",
    "offs_df['hbp_prob'] = take_offs_probs[:, list(le_take.inverse_transform(take_offs_model.classes_)).index('hbp')]\n",
    "\n",
    "offs_df['single_prob'] = woba_offs_probs[:, list(le_woba.inverse_transform(woba_offs_model.classes_)).index('single')]\n",
    "offs_df['double_prob'] = woba_offs_probs[:, list(le_woba.inverse_transform(woba_offs_model.classes_)).index('double')]\n",
    "offs_df['triple_prob'] = woba_offs_probs[:, list(le_woba.inverse_transform(woba_offs_model.classes_)).index('triple')]\n",
    "offs_df['hr_prob'] = woba_offs_probs[:, list(le_woba.inverse_transform(woba_offs_model.classes_)).index('home_run')]\n",
    "offs_df['fo_prob'] = woba_offs_probs[:, list(le_woba.inverse_transform(woba_offs_model.classes_)).index('field_out')]\n",
    "offs_df['xwOBAcon'] = values['single'] * offs_df['single_prob'] + values['double'] * offs_df['double_prob'] + values['triple'] * offs_df['triple_prob'] + values['home_run'] * offs_df['hr_prob'] + values['field_out'] * offs_df['fo_prob']\n",
    "\n",
    "offs_df['swing_prob'] = ws_offs_probs[:, list(will_swing_offs_model.classes_).index('True')]\n",
    "offs_df['take_prob'] = 1 - offs_df['swing_prob'] \n",
    "\n",
    "offs_df['val_swing'] = values['swinging_strike'] * offs_df['whiff_prob'] + values['foul'] * offs_df['foul_prob']\n",
    "+ offs_df['xwOBAcon'] * offs_df['in_play_prob']\n",
    "offs_df['val_take'] = values['called_strike'] * offs_df['strike_prob'] + values['ball'] * offs_df['ball_prob'] + values['hit_by_pitch'] * offs_df['hbp_prob']\n",
    "offs_df['xRV'] = offs_df['val_swing'] * offs_df['swing_prob'] + offs_df['val_take'] * offs_df['take_prob']"
   ]
  },
  {
   "cell_type": "code",
   "execution_count": null,
   "id": "ca47dfdb",
   "metadata": {},
   "outputs": [],
   "source": [
    "total_df = pd.concat([fastball_df, bb_df, offs_df])"
   ]
  },
  {
   "cell_type": "code",
   "execution_count": null,
   "id": "6529e559",
   "metadata": {},
   "outputs": [],
   "source": [
    "def calculate_location_plus(pitch_sc, min_num_pitches=100):\n",
    "    agg_location_plus = pitch_sc.groupby(['player_name', 'pitch_name']).agg(\n",
    "        mean_xrv=('xRV', 'mean'),\n",
    "        mean_rv=('delta_run_exp', 'mean'),\n",
    "        num_pitches=('player_name', 'count'),\n",
    "        velo=('release_speed', 'mean'),\n",
    "        spin_rate=('release_spin_rate', 'mean'),\n",
    "        vert_break=('pfx_z', 'mean'),\n",
    "        horz_break=('pfx_x', 'mean')\n",
    "    ).reset_index()\n",
    "    \n",
    "    agg_location_plus['xrv_100'] = agg_location_plus['mean_xrv'] * 100\n",
    "    agg_location_plus['xrv_100_adj'] = abs(agg_location_plus['xrv_100'] - agg_location_plus['xrv_100'].max())\n",
    "    agg_location_plus['location_plus'] = (agg_location_plus['xrv_100_adj'] / agg_location_plus['xrv_100_adj'].mean()) * 100\n",
    "    agg_location_plus = agg_location_plus.sort_values('location_plus', ascending=False)\n",
    "\n",
    "    agg_location_plus = agg_location_plus[agg_location_plus['num_pitches'] > min_num_pitches]\n",
    "\n",
    "    return agg_location_plus\n",
    "\n",
    "def calculate_agg_location_plus(pitch_sc, min_num_pitches=100):\n",
    "    agg_location_plus = pitch_sc.groupby(['player_name']).agg(\n",
    "        mean_xrv=('xRV', 'mean'),        \n",
    "        mean_rv=('delta_run_exp', 'mean'),\n",
    "        num_pitches=('player_name', 'count'),\n",
    "        velo=('release_speed', 'mean'),\n",
    "        spin_rate=('release_spin_rate', 'mean'),\n",
    "        vert_break=('pfx_z', 'mean'),\n",
    "        horz_break=('pfx_x', 'mean')\n",
    "    ).reset_index()\n",
    "\n",
    "    agg_location_plus['xrv_100'] = agg_location_plus['mean_xrv'] * 100\n",
    "    agg_location_plus['xrv_100_adj'] = abs(agg_location_plus['xrv_100'] - agg_location_plus['xrv_100'].max())\n",
    "    agg_location_plus['location_plus'] = (agg_location_plus['xrv_100_adj'] / agg_location_plus['xrv_100_adj'].mean()) * 100\n",
    "    agg_location_plus = agg_location_plus.sort_values('location_plus', ascending=False)\n",
    "\n",
    "    agg_location_plus = agg_location_plus[agg_location_plus['num_pitches'] > min_num_pitches]\n",
    "\n",
    "    return agg_location_plus\n",
    "\n",
    "agg_total = calculate_agg_location_plus(total_df, 500)\n",
    "agg_fb = calculate_location_plus(fastball_df, 300)\n",
    "agg_bb = calculate_location_plus(bb_df, 300)\n",
    "agg_offs = calculate_location_plus(offs_df, 300)"
   ]
  },
  {
   "cell_type": "code",
   "execution_count": null,
   "id": "2f9a6d59",
   "metadata": {},
   "outputs": [],
   "source": [
    "agg_total"
   ]
  },
  {
   "cell_type": "code",
   "execution_count": null,
   "id": "fc40a6ad",
   "metadata": {
    "scrolled": true
   },
   "outputs": [],
   "source": [
    "from pybaseball import pitching_stats_bref\n",
    "import matplotlib.pyplot as plt\n",
    "\n",
    "data = pitching_stats_bref(2023)\n",
    "\n",
    "agg_sp = pd.read_csv('../../Downloads/stuff+ 2023 - Sheet1.csv')\n",
    "\n",
    "agg_total[['Last Name', 'First Name']] = agg_total['player_name'].str.split(', ', expand=True)\n",
    "agg_total['Full Name'] = agg_total['First Name'] + ' ' + agg_total['Last Name']\n",
    "# agg_total = agg_total.merge(agg_sp, left_on=['Full Name'], right_on=['Name'], how='inner')\n",
    "stats_location = data.merge(agg_total, left_on='Name', right_on='Full Name', how='inner').query('WHIP < 4')\n",
    "\n",
    "x = stats_location['location_plus']\n",
    "y = stats_location['SO/W']\n",
    "\n",
    "plt.scatter(x, y)\n",
    "plt.xlabel('location+')\n",
    "plt.ylabel('SO9')\n",
    "plt.title('SO9 vs. Location+')\n",
    "\n",
    "corr_matrix = np.corrcoef(x, y)\n",
    "corr = corr_matrix[0,1]\n",
    "print(f'Coorelation: {corr}')\n",
    "\n",
    "# Show the plot\n",
    "plt.show()"
   ]
  },
  {
   "cell_type": "code",
   "execution_count": null,
   "id": "d4775621",
   "metadata": {},
   "outputs": [],
   "source": [
    "[c for c in data.columns]"
   ]
  },
  {
   "cell_type": "code",
   "execution_count": null,
   "id": "2c131804",
   "metadata": {
    "scrolled": true
   },
   "outputs": [],
   "source": [
    "joblib.dump(woba_model, 'location_woba_fb.joblib')\n",
    "joblib.dump(take_model, 'location_take_fb.joblib')\n",
    "joblib.dump(will_swing_model, 'location_ws_fb.joblib')\n",
    "joblib.dump(swing_model, 'location_swing_fb.joblib')\n",
    "\n",
    "joblib.dump(woba_bb_model, 'location_woba_bb.joblib')\n",
    "joblib.dump(take_bb_model, 'location_take_bb.joblib')\n",
    "joblib.dump(will_swing_bb_model, 'location_ws_bb.joblib')\n",
    "joblib.dump(swing_bb_model, 'location_swing_bb.joblib')\n",
    "\n",
    "joblib.dump(woba_offs_model, 'location_woba_offs.joblib')\n",
    "joblib.dump(take_offs_model, 'location_take_offs.joblib')\n",
    "joblib.dump(will_swing_offs_model, 'location_ws_offs.joblib')\n",
    "joblib.dump(swing_offs_model, 'location_swing_offs.joblib')"
   ]
  },
  {
   "cell_type": "code",
   "execution_count": null,
   "id": "db3f5d1f",
   "metadata": {},
   "outputs": [],
   "source": []
  }
 ],
 "metadata": {
  "kernelspec": {
   "display_name": "Python 3 (ipykernel)",
   "language": "python",
   "name": "python3"
  },
  "language_info": {
   "codemirror_mode": {
    "name": "ipython",
    "version": 3
   },
   "file_extension": ".py",
   "mimetype": "text/x-python",
   "name": "python",
   "nbconvert_exporter": "python",
   "pygments_lexer": "ipython3",
   "version": "3.9.7"
  }
 },
 "nbformat": 4,
 "nbformat_minor": 5
}
