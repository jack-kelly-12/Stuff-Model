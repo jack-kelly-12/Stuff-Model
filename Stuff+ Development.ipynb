{
 "cells": [
  {
   "cell_type": "code",
   "execution_count": 21,
   "id": "c3c8e69d",
   "metadata": {},
   "outputs": [],
   "source": [
    "import pandas as pd\n",
    "import numpy as np\n",
    "from xgboost import XGBRegressor\n",
    "from sklearn.model_selection import train_test_split, RandomizedSearchCV\n",
    "from sklearn.metrics import mean_absolute_error\n",
    "from sklearn.metrics import mean_squared_error\n",
    "from pybaseball import statcast, cache\n",
    "from sklearn.ensemble import RandomForestClassifier, RandomForestRegressor\n",
    "import joblib\n",
    "import math\n",
    "import scipy.stats as stats\n",
    "cache.enable()"
   ]
  },
  {
   "cell_type": "code",
   "execution_count": 22,
   "id": "5d529b27",
   "metadata": {},
   "outputs": [],
   "source": [
    "# CSV from call to pybaseball('2021-04-01', '2022-10-31')\n",
    "sc = pd.read_csv('../statcast 21-22.csv')"
   ]
  },
  {
   "cell_type": "code",
   "execution_count": 23,
   "id": "bf27e030",
   "metadata": {},
   "outputs": [],
   "source": [
    "sc = sc[(sc['strikes'] < 3) & (sc['balls'] < 4)]"
   ]
  },
  {
   "cell_type": "code",
   "execution_count": 24,
   "id": "f7defe16",
   "metadata": {},
   "outputs": [],
   "source": [
    "columns = ['player_name', 'p_throws', 'pitch_name', 'stand', 'delta_run_exp', 'release_speed', 'spin_axis', 'pfx_x', 'pfx_z', 'plate_x', 'plate_z', 'balls', 'strikes', 'release_pos_x', 'release_pos_z', 'release_extension', 'description', 'release_spin_rate', 'events']\n",
    "df = sc[columns]\n",
    "df = df[df['pitch_name'].isin(['Slider', 'Curveball', '4-Seam Fastball', 'Changeup', 'Sinker',\n",
    "       'Cutter', 'Knuckle Curve', 'Split-Finger', 'Sweeper'])]"
   ]
  },
  {
   "cell_type": "code",
   "execution_count": 25,
   "id": "fbd83bbc",
   "metadata": {},
   "outputs": [],
   "source": [
    "non_features = ['player_name', 'delta_run_exp', 'stand', 'pitch_name', 'p_throws', 'balls', 'strikes', 'spin_axis', 'plate_x', 'plate_z', 'description', 'events', 'release_extension', 'release_pos_x', 'release_pos_z']\n",
    "features = [column for column in columns if column not in non_features]"
   ]
  },
  {
   "cell_type": "code",
   "execution_count": 26,
   "id": "1f82fb4f",
   "metadata": {
    "scrolled": true
   },
   "outputs": [],
   "source": [
    "sc = sc.dropna(subset=features)"
   ]
  },
  {
   "cell_type": "code",
   "execution_count": 27,
   "id": "64875ea6",
   "metadata": {},
   "outputs": [],
   "source": [
    "average_extension = df['release_extension'].mean()\n",
    "# Found this using the added Carter Capps perceived velo divided by his added extension over average\n",
    "extension_constant = (3.5/.5)\n",
    "def calculate_perceived_velocity(row):\n",
    "    adjusted_extension = row['release_extension'] - average_extension\n",
    "    perceived_velocity = row['release_speed'] + (adjusted_extension * extension_constant)\n",
    "    return perceived_velocity\n",
    "\n",
    "df['perceived_velocity'] = df.apply(calculate_perceived_velocity, axis=1)"
   ]
  },
  {
   "cell_type": "code",
   "execution_count": 28,
   "id": "5f6ef1b9",
   "metadata": {},
   "outputs": [
    {
     "data": {
      "text/plain": [
       "20.37671757482117"
      ]
     },
     "execution_count": 28,
     "metadata": {},
     "output_type": "execute_result"
    }
   ],
   "source": [
    "df['perceived_velocity'].min()"
   ]
  },
  {
   "cell_type": "code",
   "execution_count": 29,
   "id": "be5fcb8b",
   "metadata": {},
   "outputs": [],
   "source": [
    "player_name_counts = df['player_name'].value_counts()\n",
    "# Dropping all position players pitching from data\n",
    "valid_player_names = player_name_counts[player_name_counts >= 50].index.tolist()\n",
    "df = df[df['player_name'].isin(valid_player_names)]"
   ]
  },
  {
   "cell_type": "code",
   "execution_count": 30,
   "id": "8a972fc8",
   "metadata": {},
   "outputs": [
    {
     "data": {
      "text/plain": [
       "53.87671757482117"
      ]
     },
     "execution_count": 30,
     "metadata": {},
     "output_type": "execute_result"
    }
   ],
   "source": [
    "df['perceived_velocity'].min()"
   ]
  },
  {
   "cell_type": "code",
   "execution_count": 31,
   "id": "6f9b7780",
   "metadata": {},
   "outputs": [],
   "source": [
    "df.loc[df['p_throws'] == 'L', 'pfx_x'] *= -1\n",
    "df.loc[df['p_throws'] == 'L', 'release_pos_x'] *= -1"
   ]
  },
  {
   "cell_type": "code",
   "execution_count": 32,
   "id": "04a9a957",
   "metadata": {},
   "outputs": [],
   "source": [
    "arm_angles = np.degrees(np.arctan2(df['release_pos_z'], df['release_pos_x']))\n",
    "df['arm_angle'] = arm_angles\n",
    "features.append('arm_angle')"
   ]
  },
  {
   "cell_type": "code",
   "execution_count": 33,
   "id": "3841e551",
   "metadata": {},
   "outputs": [
    {
     "data": {
      "text/plain": [
       "['release_speed',\n",
       " 'pfx_x',\n",
       " 'pfx_z',\n",
       " 'release_spin_rate',\n",
       " 'arm_angle',\n",
       " 'perceived_velocity']"
      ]
     },
     "execution_count": 33,
     "metadata": {},
     "output_type": "execute_result"
    }
   ],
   "source": [
    "features.append('perceived_velocity')\n",
    "features"
   ]
  },
  {
   "cell_type": "code",
   "execution_count": 34,
   "id": "30a18c82",
   "metadata": {},
   "outputs": [],
   "source": [
    "df['spin_axis_rad'] = df['spin_axis'] * np.pi / 180\n",
    "\n",
    "df['TSM'] = df['release_spin_rate'] * np.sin(df['spin_axis_rad'])\n",
    "df['G'] = df['release_spin_rate'] * np.cos(df['spin_axis_rad'])\n",
    "\n",
    "df['spin_efficiency'] = (df['TSM'] / df['release_spin_rate']) * 100\n",
    "\n",
    "min_spin_efficiency = df['spin_efficiency'].min(skipna=True)\n",
    "max_spin_efficiency = df['spin_efficiency'].max(skipna=True)\n",
    "\n",
    "df['normalized_spin_efficiency'] = (df['spin_efficiency'] - min_spin_efficiency) / (max_spin_efficiency - min_spin_efficiency)"
   ]
  },
  {
   "cell_type": "code",
   "execution_count": 35,
   "id": "6a639a04",
   "metadata": {},
   "outputs": [],
   "source": [
    "features.append('normalized_spin_efficiency')"
   ]
  },
  {
   "cell_type": "code",
   "execution_count": 36,
   "id": "0fa8d0db",
   "metadata": {},
   "outputs": [],
   "source": [
    "df['description'] = np.where(df['description'] == 'hit_into_play', df['events'], df['description'])"
   ]
  },
  {
   "cell_type": "code",
   "execution_count": 37,
   "id": "964198ad",
   "metadata": {},
   "outputs": [],
   "source": [
    "run_values = {\n",
    "    'home_run': 1.374328827219,\n",
    "    'triple': 1.05755624961515,\n",
    "    'double': 0.766083122898271,\n",
    "    'single': 0.467292970729251,\n",
    "    'ball': 0.0636883289483747,\n",
    "    'hit_by_pitch': 0.0636883289483747,\n",
    "    'blocked_ball': 0.0636883289483747,\n",
    "    'foul': -0.0380502742575014,\n",
    "    'foul_tip': -0.0380502742575014,\n",
    "    'bunt_foul': -0.0380502742575014,\n",
    "    'bunt_foul_tip': -0.0380502742575014,\n",
    "    'called_strike': -0.065092516089806,\n",
    "    'swinging_strike': -0.118124935770601,\n",
    "    'swinging_strike_blocked': -0.118124935770601,\n",
    "    'force_out': -0.1955687665555,\n",
    "    'grounded_into_double_play': -0.1955687665555,\n",
    "    'fielders_choice_out': -0.1955687665555,\n",
    "    'fielders_choice': -0.1955687665555,\n",
    "    'field_out': -0.1955687665555,\n",
    "    'double_play': -0.1955687665555,\n",
    "    'sac_fly': -0.236889645519856,\n",
    "    'field_error': -0.236889645519856,\n",
    "    'catcher_interf': -0.789788814378052,\n",
    "    'sac_fly_double_play': -0.789788814378052,\n",
    "    'triple_play': -0.789788814378052\n",
    "}\n",
    "\n",
    "df['RV'] = df['description'].map(run_values)"
   ]
  },
  {
   "cell_type": "code",
   "execution_count": 38,
   "id": "a43d370a",
   "metadata": {},
   "outputs": [],
   "source": [
    "df = df.dropna(subset=['delta_run_exp'])\n",
    "df = df.dropna(subset=features)"
   ]
  },
  {
   "cell_type": "code",
   "execution_count": 40,
   "id": "f405f94a",
   "metadata": {},
   "outputs": [
    {
     "name": "stdout",
     "output_type": "stream",
     "text": [
      "Best Parameters: {'colsample_bytree': 0.8832290311184181, 'learning_rate': 0.016175348288740735, 'max_depth': 2, 'n_estimators': 443, 'subsample': 0.9329770563201687}\n",
      "RMSE on Test Set: 0.2404\n",
      "Best Parameters: {'colsample_bytree': 0.8832290311184181, 'learning_rate': 0.016175348288740735, 'max_depth': 2, 'n_estimators': 443, 'subsample': 0.9329770563201687}\n",
      "RMSE on Test Set: 0.2401\n",
      "Best Parameters: {'colsample_bytree': 0.8832290311184181, 'learning_rate': 0.016175348288740735, 'max_depth': 2, 'n_estimators': 443, 'subsample': 0.9329770563201687}\n",
      "RMSE on Test Set: 0.2446\n"
     ]
    }
   ],
   "source": [
    "# Pitch breakdowns as per Driveline's model\n",
    "pitch_types = [['4-Seam Fastball', 'Sinker'], ['Curveball', 'Slider', 'Cutter', 'Knuckle Curve', 'Sweeper'], ['Split-Finger', 'Changeup', 'Forkball']]\n",
    "\n",
    "param_dist = {\n",
    "    'n_estimators': stats.randint(100, 1000),\n",
    "    'max_depth': stats.randint(1, 10),\n",
    "    'learning_rate': stats.uniform(0.01, 0.3),\n",
    "    'subsample': stats.uniform(0.6, 0.4),\n",
    "    'colsample_bytree': stats.uniform(0.6, 0.4),\n",
    "}\n",
    "\n",
    "for pitch_type in pitch_types:\n",
    "    pitch_df = df[df['pitch_name'].isin(pitch_type)]\n",
    "    \n",
    "    X = pitch_df[features]\n",
    "    y = pitch_df['delta_run_exp']\n",
    "    \n",
    "    X_train, X_test, y_train, y_test = train_test_split(X, y, test_size=0.2, random_state=42)\n",
    "    \n",
    "    model = XGBRegressor()\n",
    "    random_search = RandomizedSearchCV(estimator=model, param_distributions=param_dist, n_iter=10, scoring='neg_mean_squared_error', cv=2, random_state=42, n_jobs=-1)\n",
    "    random_search.fit(X_train, y_train)\n",
    "    \n",
    "    best_model = random_search.best_estimator_\n",
    "    \n",
    "    y_pred = best_model.predict(X_test)\n",
    "    rmse = np.sqrt(mean_squared_error(y_test, y_pred))\n",
    "    print(f\"Best Parameters: {random_search.best_params_}\")\n",
    "    print(f\"RMSE on Test Set: {rmse:.4f}\")\n",
    "    joblib.dump(best_model, f'models/{pitch_type}_optimized_random_stuff.joblib')"
   ]
  }
 ],
 "metadata": {
  "kernelspec": {
   "display_name": "Python 3 (ipykernel)",
   "language": "python",
   "name": "python3"
  },
  "language_info": {
   "codemirror_mode": {
    "name": "ipython",
    "version": 3
   },
   "file_extension": ".py",
   "mimetype": "text/x-python",
   "name": "python",
   "nbconvert_exporter": "python",
   "pygments_lexer": "ipython3",
   "version": "3.9.7"
  }
 },
 "nbformat": 4,
 "nbformat_minor": 5
}
