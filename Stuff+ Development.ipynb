{
 "cells": [
  {
   "cell_type": "code",
   "execution_count": 1,
   "id": "c3c8e69d",
   "metadata": {},
   "outputs": [],
   "source": [
    "import pandas as pd\n",
    "import numpy as np\n",
    "from xgboost import XGBRegressor\n",
    "from sklearn.model_selection import train_test_split, RandomizedSearchCV\n",
    "from sklearn.metrics import mean_absolute_error\n",
    "from sklearn.metrics import mean_squared_error\n",
    "from pybaseball import statcast, cache\n",
    "from sklearn.ensemble import RandomForestClassifier, RandomForestRegressor\n",
    "import joblib\n",
    "import math\n",
    "import scipy.stats as stats\n",
    "cache.enable()"
   ]
  },
  {
   "cell_type": "code",
   "execution_count": 2,
   "id": "5d529b27",
   "metadata": {},
   "outputs": [],
   "source": [
    "# CSV from call to pybaseball('2021-04-01', '2022-10-31')\n",
    "sc = pd.read_csv('../statcast 21-22.csv')"
   ]
  },
  {
   "cell_type": "code",
   "execution_count": 3,
   "id": "bf27e030",
   "metadata": {},
   "outputs": [],
   "source": [
    "sc = sc[(sc['strikes'] < 3) & (sc['balls'] < 4)]"
   ]
  },
  {
   "cell_type": "code",
   "execution_count": 4,
   "id": "f7defe16",
   "metadata": {},
   "outputs": [],
   "source": [
    "columns = ['player_name', 'p_throws', 'pitch_name', 'stand', 'delta_run_exp', 'release_speed', 'spin_axis', 'pfx_x', 'pfx_z', 'plate_x', 'plate_z', 'balls', 'strikes', 'release_pos_x', 'release_pos_z', 'release_extension', 'description', 'release_spin_rate', 'events']\n",
    "df = sc[columns]\n",
    "df = df[df['pitch_name'].isin(['Slider', 'Curveball', '4-Seam Fastball', 'Changeup', 'Sinker',\n",
    "       'Cutter', 'Knuckle Curve', 'Split-Finger', 'Sweeper'])]"
   ]
  },
  {
   "cell_type": "code",
   "execution_count": 5,
   "id": "fbd83bbc",
   "metadata": {},
   "outputs": [],
   "source": [
    "non_features = ['player_name', 'delta_run_exp', 'stand', 'pitch_name', 'p_throws', 'balls', 'strikes', 'release_speed', 'spin_axis', 'plate_x', 'plate_z', 'description', 'events', 'release_extension', 'release_pos_x', 'release_pos_z']\n",
    "features = [column for column in columns if column not in non_features]"
   ]
  },
  {
   "cell_type": "code",
   "execution_count": 6,
   "id": "1f82fb4f",
   "metadata": {
    "scrolled": true
   },
   "outputs": [],
   "source": [
    "df = df.dropna(subset=features)"
   ]
  },
  {
   "cell_type": "code",
   "execution_count": 7,
   "id": "bc773c0d",
   "metadata": {},
   "outputs": [],
   "source": [
    "capps_constant = 8.2 - df.release_extension.mean()"
   ]
  },
  {
   "cell_type": "code",
   "execution_count": 8,
   "id": "64875ea6",
   "metadata": {},
   "outputs": [],
   "source": [
    "average_extension = df['release_extension'].mean()\n",
    "# Found this using the added Carter Capps perceived velo divided by his added extension over average\n",
    "extension_constant = (3.5/capps_constant)\n",
    "def calculate_perceived_velocity(row):\n",
    "    adjusted_extension = row['release_extension'] - average_extension\n",
    "    perceived_velocity = row['release_speed'] + (adjusted_extension * extension_constant)\n",
    "    return perceived_velocity\n",
    "\n",
    "df['perceived_velocity'] = df.apply(calculate_perceived_velocity, axis=1)"
   ]
  },
  {
   "cell_type": "code",
   "execution_count": 9,
   "id": "5f6ef1b9",
   "metadata": {},
   "outputs": [
    {
     "data": {
      "text/plain": [
       "31.776406656335816"
      ]
     },
     "execution_count": 9,
     "metadata": {},
     "output_type": "execute_result"
    }
   ],
   "source": [
    "df['perceived_velocity'].min()"
   ]
  },
  {
   "cell_type": "code",
   "execution_count": 10,
   "id": "be5fcb8b",
   "metadata": {},
   "outputs": [],
   "source": [
    "player_name_counts = df['player_name'].value_counts()\n",
    "# Dropping all position players pitching from data\n",
    "valid_player_names = player_name_counts[player_name_counts >= 50].index.tolist()\n",
    "df = df[df['player_name'].isin(valid_player_names)]"
   ]
  },
  {
   "cell_type": "code",
   "execution_count": 11,
   "id": "8a972fc8",
   "metadata": {},
   "outputs": [
    {
     "data": {
      "text/plain": [
       "56.040586989350196"
      ]
     },
     "execution_count": 11,
     "metadata": {},
     "output_type": "execute_result"
    }
   ],
   "source": [
    "df['perceived_velocity'].min()"
   ]
  },
  {
   "cell_type": "code",
   "execution_count": 12,
   "id": "6f9b7780",
   "metadata": {},
   "outputs": [],
   "source": [
    "df.loc[df['p_throws'] == 'L', 'pfx_x'] *= -1\n",
    "df.loc[df['p_throws'] == 'L', 'spin_axis'] = 360 - df.loc[df['p_throws'] == 'L', 'spin_axis']\n",
    "df.loc[df['p_throws'] == 'L', 'release_pos_x'] *= -1"
   ]
  },
  {
   "cell_type": "code",
   "execution_count": 13,
   "id": "04a9a957",
   "metadata": {},
   "outputs": [],
   "source": [
    "arm_angles = np.degrees(np.arctan2(df['release_pos_z'], df['release_pos_x']))\n",
    "df['arm_angle'] = arm_angles\n",
    "features.append('arm_angle')"
   ]
  },
  {
   "cell_type": "code",
   "execution_count": 14,
   "id": "3841e551",
   "metadata": {},
   "outputs": [
    {
     "data": {
      "text/plain": [
       "['pfx_x', 'pfx_z', 'release_spin_rate', 'arm_angle', 'perceived_velocity']"
      ]
     },
     "execution_count": 14,
     "metadata": {},
     "output_type": "execute_result"
    }
   ],
   "source": [
    "features.append('perceived_velocity')\n",
    "features"
   ]
  },
  {
   "cell_type": "code",
   "execution_count": 15,
   "id": "30a18c82",
   "metadata": {},
   "outputs": [],
   "source": [
    "df['spin_axis_rad'] = df['spin_axis'] * np.pi / 180\n",
    "\n",
    "df['TSM'] = df['release_spin_rate'] * np.sin(df['spin_axis_rad'])\n",
    "df['G'] = df['release_spin_rate'] * np.cos(df['spin_axis_rad'])\n",
    "\n",
    "df['spin_efficiency'] = (df['TSM'] / df['release_spin_rate']) * 100\n",
    "\n",
    "min_spin_efficiency = df['spin_efficiency'].min(skipna=True)\n",
    "max_spin_efficiency = df['spin_efficiency'].max(skipna=True)\n",
    "\n",
    "df['normalized_spin_efficiency'] = (df['spin_efficiency'] - min_spin_efficiency) / (max_spin_efficiency - min_spin_efficiency)"
   ]
  },
  {
   "cell_type": "code",
   "execution_count": 16,
   "id": "6a639a04",
   "metadata": {},
   "outputs": [],
   "source": [
    "features.append('normalized_spin_efficiency')"
   ]
  },
  {
   "cell_type": "code",
   "execution_count": 17,
   "id": "a43d370a",
   "metadata": {},
   "outputs": [],
   "source": [
    "df = df.dropna(subset=['delta_run_exp'])\n",
    "df = df.dropna(subset=features)"
   ]
  },
  {
   "cell_type": "code",
   "execution_count": 18,
   "id": "f405f94a",
   "metadata": {
    "scrolled": true
   },
   "outputs": [
    {
     "name": "stdout",
     "output_type": "stream",
     "text": [
      "Best Parameters: {'colsample_bytree': 0.9429947588142006, 'learning_rate': 0.08335765688521098, 'max_depth': 9, 'n_estimators': 222, 'subsample': 0.757479377198551}\n",
      "RMSE on Test Set: 0.2434\n",
      "Best Parameters: {'colsample_bytree': 0.7284609469753212, 'learning_rate': 0.2148024546393382, 'max_depth': 1, 'n_estimators': 200, 'subsample': 0.9635651868157075}\n",
      "RMSE on Test Set: 0.2360\n",
      "Best Parameters: {'colsample_bytree': 0.7377282966171337, 'learning_rate': 0.24567778670920615, 'max_depth': 1, 'n_estimators': 100, 'subsample': 0.7041885320250866}\n",
      "RMSE on Test Set: 0.2446\n"
     ]
    }
   ],
   "source": [
    "# Pitch breakdowns as per Driveline's model\n",
    "pitch_types = [['4-Seam Fastball', 'Sinker'], ['Curveball', 'Slider', 'Cutter', 'Knuckle Curve', 'Sweeper'], ['Split-Finger', 'Changeup', 'Forkball']]\n",
    "\n",
    "for pitch_type in pitch_types:\n",
    "    np.random.seed()\n",
    "    param_dist = {\n",
    "    'n_estimators': stats.randint(100, 1000),\n",
    "    'max_depth': stats.randint(1, 10),\n",
    "    'learning_rate': stats.uniform(0.01, 0.3),\n",
    "    'subsample': stats.uniform(0.6, 0.4),\n",
    "    'colsample_bytree': stats.uniform(0.6, 0.4),\n",
    "    }\n",
    "    pitch_df = df[df['pitch_name'].isin(pitch_type)]\n",
    "    \n",
    "    X = pitch_df[features]\n",
    "    y = pitch_df['delta_run_exp']\n",
    "    \n",
    "    X_train, X_test, y_train, y_test = train_test_split(X, y, test_size=0.2, random_state=np.random.seed())\n",
    "    \n",
    "    model = XGBRegressor()\n",
    "    random_search = RandomizedSearchCV(estimator=model, param_distributions=param_dist, n_iter=5, scoring='neg_mean_squared_error', cv=3, random_state=np.random.seed(), n_jobs=-1)\n",
    "    random_search.fit(X_train, y_train)\n",
    "    \n",
    "    best_model = random_search.best_estimator_\n",
    "    \n",
    "    y_pred = best_model.predict(X_test)\n",
    "    rmse = np.sqrt(mean_squared_error(y_test, y_pred))\n",
    "    print(f\"Best Parameters: {random_search.best_params_}\")\n",
    "    print(f\"RMSE on Test Set: {rmse:.4f}\")\n",
    "    joblib.dump(best_model, f'models/{pitch_type}_optimized_random_stuff.joblib')"
   ]
  },
  {
   "cell_type": "code",
   "execution_count": 19,
   "id": "66dcbb56",
   "metadata": {},
   "outputs": [],
   "source": [
    "def get_pitch_data(df, pitch_name, players):\n",
    "    velo_map = {player: math.nan for player in players}\n",
    "    h_movement_map = {player: math.nan for player in players}\n",
    "    v_movement_map = {player: math.nan for player in players}\n",
    "\n",
    "    grouped_data = df.loc[(df['pitch_name'] == pitch_name) & (df['player_name'].isin(players))].groupby('player_name').agg({\n",
    "        'release_speed': 'median',\n",
    "        'pfx_x': 'median',\n",
    "        'pfx_z': 'median'\n",
    "    }).reset_index()\n",
    "\n",
    "    for _, row in grouped_data.iterrows():\n",
    "        player_name = row['player_name']\n",
    "        velo_map[player_name] = row['release_speed']\n",
    "        h_movement_map[player_name] = row['pfx_x']\n",
    "        v_movement_map[player_name] = row['pfx_z']\n",
    "\n",
    "    return velo_map, h_movement_map, v_movement_map\n",
    "\n",
    "all_players = df['player_name'].unique()\n",
    "\n",
    "fastball_velo_map, fastball_h_movement_map, fastball_v_movement_map = get_pitch_data(df, '4-Seam Fastball', all_players)\n",
    "nan_fastball = [key for key in fastball_velo_map if math.isnan(fastball_velo_map[key])]\n",
    "\n",
    "sinker_velo_map, sinker_h_movement_map, sinker_v_movement_map = get_pitch_data(df, 'Sinker', nan_fastball)\n",
    "nan_sink = [key for key in sinker_velo_map if math.isnan(sinker_velo_map[key])]\n",
    "\n",
    "cutter_velo_map, cutter_h_movement_map, cutter_v_movement_map = get_pitch_data(df, 'Cutter', nan_sink)"
   ]
  },
  {
   "cell_type": "code",
   "execution_count": 20,
   "id": "297f3075",
   "metadata": {},
   "outputs": [],
   "source": [
    "def calculate_velo_dif(row):\n",
    "    if row['player_name'] in cutter_velo_map:\n",
    "        return row['release_speed'] - cutter_velo_map[row['player_name']]\n",
    "    elif row['player_name'] in sinker_velo_map:\n",
    "        return row['release_speed'] - sinker_velo_map[row['player_name']]\n",
    "    return row['release_speed'] - fastball_velo_map[row['player_name']]\n",
    "\n",
    "def calculate_h_movement_dif(row):\n",
    "    if row['player_name'] in cutter_velo_map:\n",
    "        return row['pfx_x'] - cutter_h_movement_map[row['player_name']]\n",
    "    elif row['player_name'] in sinker_velo_map:\n",
    "        return row['pfx_x'] - sinker_velo_map[row['player_name']]\n",
    "    return row['pfx_x'] - fastball_h_movement_map[row['player_name']]\n",
    "\n",
    "def calculate_v_movement_dif(row):\n",
    "    if row['player_name'] in cutter_velo_map:\n",
    "        return row['pfx_z'] - cutter_v_movement_map[row['player_name']]\n",
    "    elif row['player_name'] in sinker_velo_map:\n",
    "        return row['pfx_z'] - sinker_velo_map[row['player_name']]\n",
    "    return row['pfx_z'] - fastball_v_movement_map[row['player_name']]\n",
    "\n",
    "df['velo_dif'] = df.apply(lambda row: calculate_velo_dif(row), axis=1)\n",
    "df['h_movement_dif'] = df.apply(lambda row: calculate_h_movement_dif(row), axis=1)\n",
    "df['v_movement_dif'] = df.apply(lambda row: calculate_v_movement_dif(row), axis=1)"
   ]
  },
  {
   "cell_type": "code",
   "execution_count": 21,
   "id": "2fa687db",
   "metadata": {},
   "outputs": [],
   "source": [
    "new_features = features.copy()"
   ]
  },
  {
   "cell_type": "code",
   "execution_count": 22,
   "id": "fe93fe39",
   "metadata": {},
   "outputs": [],
   "source": [
    "new_features += ['velo_dif', 'h_movement_dif', 'v_movement_dif']"
   ]
  },
  {
   "cell_type": "code",
   "execution_count": 23,
   "id": "da786d8f",
   "metadata": {
    "scrolled": true
   },
   "outputs": [
    {
     "data": {
      "text/plain": [
       "['pfx_x',\n",
       " 'pfx_z',\n",
       " 'release_spin_rate',\n",
       " 'arm_angle',\n",
       " 'perceived_velocity',\n",
       " 'normalized_spin_efficiency',\n",
       " 'velo_dif',\n",
       " 'h_movement_dif',\n",
       " 'v_movement_dif']"
      ]
     },
     "execution_count": 23,
     "metadata": {},
     "output_type": "execute_result"
    }
   ],
   "source": [
    "new_features"
   ]
  },
  {
   "cell_type": "code",
   "execution_count": 24,
   "id": "cfe7eafb",
   "metadata": {},
   "outputs": [
    {
     "name": "stdout",
     "output_type": "stream",
     "text": [
      "Best Parameters: {'colsample_bytree': 0.6365022643696724, 'learning_rate': 0.08692947913967677, 'max_depth': 5, 'n_estimators': 333, 'subsample': 0.6472663146756419}\n",
      "RMSE on Test Set: 0.2409\n",
      "Best Parameters: {'colsample_bytree': 0.8167464028858771, 'learning_rate': 0.04644799341689158, 'max_depth': 5, 'n_estimators': 242, 'subsample': 0.7717621912165686}\n",
      "RMSE on Test Set: 0.2452\n"
     ]
    }
   ],
   "source": [
    "# Pitch breakdowns as per Driveline's model\n",
    "pitch_types = [['Curveball', 'Slider', 'Cutter', 'Knuckle Curve', 'Sweeper'], ['Split-Finger', 'Changeup', 'Forkball']]\n",
    "\n",
    "for pitch_type in pitch_types:\n",
    "    np.random.seed()\n",
    "    param_dist = {\n",
    "    'n_estimators': stats.randint(100, 1000),\n",
    "    'max_depth': stats.randint(1, 10),\n",
    "    'learning_rate': stats.uniform(0.01, 0.3),\n",
    "    'subsample': stats.uniform(0.6, 0.4),\n",
    "    'colsample_bytree': stats.uniform(0.6, 0.4),\n",
    "    }\n",
    "    pitch_df = df[df['pitch_name'].isin(pitch_type)]\n",
    "    \n",
    "    X = pitch_df[new_features]\n",
    "    y = pitch_df['delta_run_exp']\n",
    "    \n",
    "    X_train, X_test, y_train, y_test = train_test_split(X, y, test_size=0.2, random_state=np.random.seed())\n",
    "    \n",
    "    model = XGBRegressor()\n",
    "    random_search = RandomizedSearchCV(estimator=model, param_distributions=param_dist, n_iter=5, scoring='neg_mean_squared_error', cv=3, random_state=np.random.seed(), n_jobs=-1)\n",
    "    random_search.fit(X_train, y_train)\n",
    "    \n",
    "    best_model = random_search.best_estimator_\n",
    "    \n",
    "    y_pred = best_model.predict(X_test)\n",
    "    rmse = np.sqrt(mean_squared_error(y_test, y_pred))\n",
    "    print(f\"Best Parameters: {random_search.best_params_}\")\n",
    "    print(f\"RMSE on Test Set: {rmse:.4f}\")\n",
    "    joblib.dump(best_model, f'models/{pitch_type}new_stuff.joblib')"
   ]
  },
  {
   "cell_type": "code",
   "execution_count": 25,
   "id": "84ccce25",
   "metadata": {},
   "outputs": [
    {
     "data": {
      "text/plain": [
       "['pfx_x',\n",
       " 'pfx_z',\n",
       " 'release_spin_rate',\n",
       " 'arm_angle',\n",
       " 'perceived_velocity',\n",
       " 'normalized_spin_efficiency']"
      ]
     },
     "execution_count": 25,
     "metadata": {},
     "output_type": "execute_result"
    }
   ],
   "source": [
    "features"
   ]
  }
 ],
 "metadata": {
  "kernelspec": {
   "display_name": "Python 3 (ipykernel)",
   "language": "python",
   "name": "python3"
  },
  "language_info": {
   "codemirror_mode": {
    "name": "ipython",
    "version": 3
   },
   "file_extension": ".py",
   "mimetype": "text/x-python",
   "name": "python",
   "nbconvert_exporter": "python",
   "pygments_lexer": "ipython3",
   "version": "3.9.7"
  }
 },
 "nbformat": 4,
 "nbformat_minor": 5
}
